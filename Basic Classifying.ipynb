{
 "cells": [
  {
   "cell_type": "markdown",
   "id": "copyrighted-closing",
   "metadata": {},
   "source": [
    "# AIN429 - ASSIGNMENT "
   ]
  },
  {
   "cell_type": "raw",
   "id": "israeli-wednesday",
   "metadata": {},
   "source": [
    "Mete Mert Birdal\n",
    "21992866"
   ]
  },
  {
   "cell_type": "markdown",
   "id": "rotary-flesh",
   "metadata": {},
   "source": [
    "## Library Imports"
   ]
  },
  {
   "cell_type": "markdown",
   "id": "communist-phrase",
   "metadata": {},
   "source": [
    "The required libraries are downloaded in the cell below."
   ]
  },
  {
   "cell_type": "code",
   "execution_count": 1,
   "id": "confident-senator",
   "metadata": {},
   "outputs": [],
   "source": [
    "import pandas as pd\n",
    "import numpy as np\n",
    "import matplotlib.pyplot as plt\n",
    "import seaborn as sns\n",
    "import plotly.express as px\n",
    "import plotly.graph_objects as go\n",
    "import warnings\n",
    "from sklearn.model_selection import train_test_split\n",
    "from sklearn.metrics import classification_report, accuracy_score\n",
    "from sklearn.metrics import confusion_matrix, ConfusionMatrixDisplay\n",
    "warnings.filterwarnings('ignore')"
   ]
  },
  {
   "cell_type": "markdown",
   "id": "dying-fundamental",
   "metadata": {},
   "source": [
    "## Collecting The Data"
   ]
  },
  {
   "cell_type": "markdown",
   "id": "sporting-chase",
   "metadata": {},
   "source": [
    "I read csv file into pandas dataframe."
   ]
  },
  {
   "cell_type": "code",
   "execution_count": 2,
   "id": "illegal-lightning",
   "metadata": {},
   "outputs": [
    {
     "data": {
      "text/html": [
       "<div>\n",
       "<style scoped>\n",
       "    .dataframe tbody tr th:only-of-type {\n",
       "        vertical-align: middle;\n",
       "    }\n",
       "\n",
       "    .dataframe tbody tr th {\n",
       "        vertical-align: top;\n",
       "    }\n",
       "\n",
       "    .dataframe thead th {\n",
       "        text-align: right;\n",
       "    }\n",
       "</style>\n",
       "<table border=\"1\" class=\"dataframe\">\n",
       "  <thead>\n",
       "    <tr style=\"text-align: right;\">\n",
       "      <th></th>\n",
       "      <th>Class</th>\n",
       "      <th>User</th>\n",
       "      <th>X0</th>\n",
       "      <th>Y0</th>\n",
       "      <th>Z0</th>\n",
       "      <th>X1</th>\n",
       "      <th>Y1</th>\n",
       "      <th>Z1</th>\n",
       "      <th>X2</th>\n",
       "      <th>Y2</th>\n",
       "      <th>...</th>\n",
       "      <th>Z8</th>\n",
       "      <th>X9</th>\n",
       "      <th>Y9</th>\n",
       "      <th>Z9</th>\n",
       "      <th>X10</th>\n",
       "      <th>Y10</th>\n",
       "      <th>Z10</th>\n",
       "      <th>X11</th>\n",
       "      <th>Y11</th>\n",
       "      <th>Z11</th>\n",
       "    </tr>\n",
       "  </thead>\n",
       "  <tbody>\n",
       "    <tr>\n",
       "      <th>0</th>\n",
       "      <td>0</td>\n",
       "      <td>0</td>\n",
       "      <td>0.000000</td>\n",
       "      <td>0.000000</td>\n",
       "      <td>0.000000</td>\n",
       "      <td>0.000000</td>\n",
       "      <td>0.000000</td>\n",
       "      <td>0.000000</td>\n",
       "      <td>0.000000</td>\n",
       "      <td>0.000000</td>\n",
       "      <td>...</td>\n",
       "      <td>0</td>\n",
       "      <td>0</td>\n",
       "      <td>0</td>\n",
       "      <td>0</td>\n",
       "      <td>0</td>\n",
       "      <td>0</td>\n",
       "      <td>0</td>\n",
       "      <td>0</td>\n",
       "      <td>0</td>\n",
       "      <td>0</td>\n",
       "    </tr>\n",
       "    <tr>\n",
       "      <th>1</th>\n",
       "      <td>1</td>\n",
       "      <td>0</td>\n",
       "      <td>54.263880</td>\n",
       "      <td>71.466776</td>\n",
       "      <td>-64.807709</td>\n",
       "      <td>76.895635</td>\n",
       "      <td>42.462500</td>\n",
       "      <td>-72.780545</td>\n",
       "      <td>36.621229</td>\n",
       "      <td>81.680557</td>\n",
       "      <td>...</td>\n",
       "      <td>?</td>\n",
       "      <td>?</td>\n",
       "      <td>?</td>\n",
       "      <td>?</td>\n",
       "      <td>?</td>\n",
       "      <td>?</td>\n",
       "      <td>?</td>\n",
       "      <td>?</td>\n",
       "      <td>?</td>\n",
       "      <td>?</td>\n",
       "    </tr>\n",
       "    <tr>\n",
       "      <th>2</th>\n",
       "      <td>1</td>\n",
       "      <td>0</td>\n",
       "      <td>56.527558</td>\n",
       "      <td>72.266609</td>\n",
       "      <td>-61.935252</td>\n",
       "      <td>39.135978</td>\n",
       "      <td>82.538530</td>\n",
       "      <td>-49.596509</td>\n",
       "      <td>79.223743</td>\n",
       "      <td>43.254091</td>\n",
       "      <td>...</td>\n",
       "      <td>?</td>\n",
       "      <td>?</td>\n",
       "      <td>?</td>\n",
       "      <td>?</td>\n",
       "      <td>?</td>\n",
       "      <td>?</td>\n",
       "      <td>?</td>\n",
       "      <td>?</td>\n",
       "      <td>?</td>\n",
       "      <td>?</td>\n",
       "    </tr>\n",
       "    <tr>\n",
       "      <th>3</th>\n",
       "      <td>1</td>\n",
       "      <td>0</td>\n",
       "      <td>55.849928</td>\n",
       "      <td>72.469064</td>\n",
       "      <td>-62.562788</td>\n",
       "      <td>37.988804</td>\n",
       "      <td>82.631347</td>\n",
       "      <td>-50.606259</td>\n",
       "      <td>78.451526</td>\n",
       "      <td>43.567403</td>\n",
       "      <td>...</td>\n",
       "      <td>?</td>\n",
       "      <td>?</td>\n",
       "      <td>?</td>\n",
       "      <td>?</td>\n",
       "      <td>?</td>\n",
       "      <td>?</td>\n",
       "      <td>?</td>\n",
       "      <td>?</td>\n",
       "      <td>?</td>\n",
       "      <td>?</td>\n",
       "    </tr>\n",
       "    <tr>\n",
       "      <th>4</th>\n",
       "      <td>1</td>\n",
       "      <td>0</td>\n",
       "      <td>55.329647</td>\n",
       "      <td>71.707275</td>\n",
       "      <td>-63.688956</td>\n",
       "      <td>36.561863</td>\n",
       "      <td>81.868749</td>\n",
       "      <td>-52.752784</td>\n",
       "      <td>86.320630</td>\n",
       "      <td>68.214645</td>\n",
       "      <td>...</td>\n",
       "      <td>?</td>\n",
       "      <td>?</td>\n",
       "      <td>?</td>\n",
       "      <td>?</td>\n",
       "      <td>?</td>\n",
       "      <td>?</td>\n",
       "      <td>?</td>\n",
       "      <td>?</td>\n",
       "      <td>?</td>\n",
       "      <td>?</td>\n",
       "    </tr>\n",
       "  </tbody>\n",
       "</table>\n",
       "<p>5 rows × 38 columns</p>\n",
       "</div>"
      ],
      "text/plain": [
       "   Class  User         X0         Y0         Z0         X1         Y1  \\\n",
       "0      0     0   0.000000   0.000000   0.000000   0.000000   0.000000   \n",
       "1      1     0  54.263880  71.466776 -64.807709  76.895635  42.462500   \n",
       "2      1     0  56.527558  72.266609 -61.935252  39.135978  82.538530   \n",
       "3      1     0  55.849928  72.469064 -62.562788  37.988804  82.631347   \n",
       "4      1     0  55.329647  71.707275 -63.688956  36.561863  81.868749   \n",
       "\n",
       "          Z1         X2         Y2  ...  Z8 X9 Y9 Z9 X10 Y10 Z10 X11 Y11 Z11  \n",
       "0   0.000000   0.000000   0.000000  ...   0  0  0  0   0   0   0   0   0   0  \n",
       "1 -72.780545  36.621229  81.680557  ...   ?  ?  ?  ?   ?   ?   ?   ?   ?   ?  \n",
       "2 -49.596509  79.223743  43.254091  ...   ?  ?  ?  ?   ?   ?   ?   ?   ?   ?  \n",
       "3 -50.606259  78.451526  43.567403  ...   ?  ?  ?  ?   ?   ?   ?   ?   ?   ?  \n",
       "4 -52.752784  86.320630  68.214645  ...   ?  ?  ?  ?   ?   ?   ?   ?   ?   ?  \n",
       "\n",
       "[5 rows x 38 columns]"
      ]
     },
     "execution_count": 2,
     "metadata": {},
     "output_type": "execute_result"
    }
   ],
   "source": [
    "df = pd.read_csv('data.csv')\n",
    "df.head()"
   ]
  },
  {
   "cell_type": "markdown",
   "id": "southern-vision",
   "metadata": {},
   "source": [
    "## Data Preprocessing "
   ]
  },
  {
   "cell_type": "markdown",
   "id": "silver-nutrition",
   "metadata": {},
   "source": [
    "In Data Preprocessing part, I made these operations respectively: <br>\n",
    "- Print the length of data <br>\n",
    "- Drop the first row because it is meaningless (full of zeros)\n",
    "- Check the \"?\" values in data which have to be deleted <br>\n",
    "- Drop columns with many \"?\", don't drop columns with less \"?\" to repair them (I dropped all columns after Z4)\n",
    "- Replace \"?\" with NaN\n",
    "- Change column types to 'float64' (some of them were object)\n",
    "- Fill the NaN values with column mean <br>\n",
    "- Check for duplicated rows (there were no duplicated rows) <br>\n",
    "- Drop the outliers which are not in %25-%75 <br>\n",
    "\n",
    "You can find all steps below."
   ]
  },
  {
   "cell_type": "code",
   "execution_count": 3,
   "id": "generous-farming",
   "metadata": {},
   "outputs": [
    {
     "name": "stdout",
     "output_type": "stream",
     "text": [
      "Length of Data: 78096\n"
     ]
    }
   ],
   "source": [
    "print(\"Length of Data:\", len(df))"
   ]
  },
  {
   "cell_type": "code",
   "execution_count": 4,
   "id": "documentary-bulletin",
   "metadata": {},
   "outputs": [
    {
     "data": {
      "text/html": [
       "<div>\n",
       "<style scoped>\n",
       "    .dataframe tbody tr th:only-of-type {\n",
       "        vertical-align: middle;\n",
       "    }\n",
       "\n",
       "    .dataframe tbody tr th {\n",
       "        vertical-align: top;\n",
       "    }\n",
       "\n",
       "    .dataframe thead th {\n",
       "        text-align: right;\n",
       "    }\n",
       "</style>\n",
       "<table border=\"1\" class=\"dataframe\">\n",
       "  <thead>\n",
       "    <tr style=\"text-align: right;\">\n",
       "      <th></th>\n",
       "      <th>Class</th>\n",
       "      <th>User</th>\n",
       "      <th>X0</th>\n",
       "      <th>Y0</th>\n",
       "      <th>Z0</th>\n",
       "      <th>X1</th>\n",
       "      <th>Y1</th>\n",
       "      <th>Z1</th>\n",
       "      <th>X2</th>\n",
       "      <th>Y2</th>\n",
       "      <th>...</th>\n",
       "      <th>Z8</th>\n",
       "      <th>X9</th>\n",
       "      <th>Y9</th>\n",
       "      <th>Z9</th>\n",
       "      <th>X10</th>\n",
       "      <th>Y10</th>\n",
       "      <th>Z10</th>\n",
       "      <th>X11</th>\n",
       "      <th>Y11</th>\n",
       "      <th>Z11</th>\n",
       "    </tr>\n",
       "  </thead>\n",
       "  <tbody>\n",
       "    <tr>\n",
       "      <th>0</th>\n",
       "      <td>1</td>\n",
       "      <td>0</td>\n",
       "      <td>54.263880</td>\n",
       "      <td>71.466776</td>\n",
       "      <td>-64.807709</td>\n",
       "      <td>76.895635</td>\n",
       "      <td>42.462500</td>\n",
       "      <td>-72.780545</td>\n",
       "      <td>36.621229</td>\n",
       "      <td>81.680557</td>\n",
       "      <td>...</td>\n",
       "      <td>?</td>\n",
       "      <td>?</td>\n",
       "      <td>?</td>\n",
       "      <td>?</td>\n",
       "      <td>?</td>\n",
       "      <td>?</td>\n",
       "      <td>?</td>\n",
       "      <td>?</td>\n",
       "      <td>?</td>\n",
       "      <td>?</td>\n",
       "    </tr>\n",
       "    <tr>\n",
       "      <th>1</th>\n",
       "      <td>1</td>\n",
       "      <td>0</td>\n",
       "      <td>56.527558</td>\n",
       "      <td>72.266609</td>\n",
       "      <td>-61.935252</td>\n",
       "      <td>39.135978</td>\n",
       "      <td>82.538530</td>\n",
       "      <td>-49.596509</td>\n",
       "      <td>79.223743</td>\n",
       "      <td>43.254091</td>\n",
       "      <td>...</td>\n",
       "      <td>?</td>\n",
       "      <td>?</td>\n",
       "      <td>?</td>\n",
       "      <td>?</td>\n",
       "      <td>?</td>\n",
       "      <td>?</td>\n",
       "      <td>?</td>\n",
       "      <td>?</td>\n",
       "      <td>?</td>\n",
       "      <td>?</td>\n",
       "    </tr>\n",
       "    <tr>\n",
       "      <th>2</th>\n",
       "      <td>1</td>\n",
       "      <td>0</td>\n",
       "      <td>55.849928</td>\n",
       "      <td>72.469064</td>\n",
       "      <td>-62.562788</td>\n",
       "      <td>37.988804</td>\n",
       "      <td>82.631347</td>\n",
       "      <td>-50.606259</td>\n",
       "      <td>78.451526</td>\n",
       "      <td>43.567403</td>\n",
       "      <td>...</td>\n",
       "      <td>?</td>\n",
       "      <td>?</td>\n",
       "      <td>?</td>\n",
       "      <td>?</td>\n",
       "      <td>?</td>\n",
       "      <td>?</td>\n",
       "      <td>?</td>\n",
       "      <td>?</td>\n",
       "      <td>?</td>\n",
       "      <td>?</td>\n",
       "    </tr>\n",
       "    <tr>\n",
       "      <th>3</th>\n",
       "      <td>1</td>\n",
       "      <td>0</td>\n",
       "      <td>55.329647</td>\n",
       "      <td>71.707275</td>\n",
       "      <td>-63.688956</td>\n",
       "      <td>36.561863</td>\n",
       "      <td>81.868749</td>\n",
       "      <td>-52.752784</td>\n",
       "      <td>86.320630</td>\n",
       "      <td>68.214645</td>\n",
       "      <td>...</td>\n",
       "      <td>?</td>\n",
       "      <td>?</td>\n",
       "      <td>?</td>\n",
       "      <td>?</td>\n",
       "      <td>?</td>\n",
       "      <td>?</td>\n",
       "      <td>?</td>\n",
       "      <td>?</td>\n",
       "      <td>?</td>\n",
       "      <td>?</td>\n",
       "    </tr>\n",
       "    <tr>\n",
       "      <th>4</th>\n",
       "      <td>1</td>\n",
       "      <td>0</td>\n",
       "      <td>55.142401</td>\n",
       "      <td>71.435607</td>\n",
       "      <td>-64.177303</td>\n",
       "      <td>36.175818</td>\n",
       "      <td>81.556874</td>\n",
       "      <td>-53.475747</td>\n",
       "      <td>76.986143</td>\n",
       "      <td>42.426849</td>\n",
       "      <td>...</td>\n",
       "      <td>?</td>\n",
       "      <td>?</td>\n",
       "      <td>?</td>\n",
       "      <td>?</td>\n",
       "      <td>?</td>\n",
       "      <td>?</td>\n",
       "      <td>?</td>\n",
       "      <td>?</td>\n",
       "      <td>?</td>\n",
       "      <td>?</td>\n",
       "    </tr>\n",
       "    <tr>\n",
       "      <th>...</th>\n",
       "      <td>...</td>\n",
       "      <td>...</td>\n",
       "      <td>...</td>\n",
       "      <td>...</td>\n",
       "      <td>...</td>\n",
       "      <td>...</td>\n",
       "      <td>...</td>\n",
       "      <td>...</td>\n",
       "      <td>...</td>\n",
       "      <td>...</td>\n",
       "      <td>...</td>\n",
       "      <td>...</td>\n",
       "      <td>...</td>\n",
       "      <td>...</td>\n",
       "      <td>...</td>\n",
       "      <td>...</td>\n",
       "      <td>...</td>\n",
       "      <td>...</td>\n",
       "      <td>...</td>\n",
       "      <td>...</td>\n",
       "      <td>...</td>\n",
       "    </tr>\n",
       "    <tr>\n",
       "      <th>78090</th>\n",
       "      <td>5</td>\n",
       "      <td>14</td>\n",
       "      <td>54.251127</td>\n",
       "      <td>129.177414</td>\n",
       "      <td>-44.252511</td>\n",
       "      <td>27.720784</td>\n",
       "      <td>107.810661</td>\n",
       "      <td>11.099282</td>\n",
       "      <td>-1.270139</td>\n",
       "      <td>122.758679</td>\n",
       "      <td>...</td>\n",
       "      <td>-6.54311453354464</td>\n",
       "      <td>87.7333643096221</td>\n",
       "      <td>61.2163626180662</td>\n",
       "      <td>-62.1262783028233</td>\n",
       "      <td>?</td>\n",
       "      <td>?</td>\n",
       "      <td>?</td>\n",
       "      <td>?</td>\n",
       "      <td>?</td>\n",
       "      <td>?</td>\n",
       "    </tr>\n",
       "    <tr>\n",
       "      <th>78091</th>\n",
       "      <td>5</td>\n",
       "      <td>14</td>\n",
       "      <td>54.334883</td>\n",
       "      <td>129.253842</td>\n",
       "      <td>-44.016320</td>\n",
       "      <td>27.767911</td>\n",
       "      <td>107.914808</td>\n",
       "      <td>11.069842</td>\n",
       "      <td>-30.334054</td>\n",
       "      <td>77.858214</td>\n",
       "      <td>...</td>\n",
       "      <td>-62.1305625712145</td>\n",
       "      <td>78.2298473919132</td>\n",
       "      <td>33.0784071753174</td>\n",
       "      <td>-45.2495433686171</td>\n",
       "      <td>?</td>\n",
       "      <td>?</td>\n",
       "      <td>?</td>\n",
       "      <td>?</td>\n",
       "      <td>?</td>\n",
       "      <td>?</td>\n",
       "    </tr>\n",
       "    <tr>\n",
       "      <th>78092</th>\n",
       "      <td>5</td>\n",
       "      <td>14</td>\n",
       "      <td>54.151540</td>\n",
       "      <td>129.269502</td>\n",
       "      <td>-44.173273</td>\n",
       "      <td>27.725978</td>\n",
       "      <td>108.034006</td>\n",
       "      <td>11.020347</td>\n",
       "      <td>-22.574718</td>\n",
       "      <td>104.222208</td>\n",
       "      <td>...</td>\n",
       "      <td>3.83590370588782</td>\n",
       "      <td>78.591554010542</td>\n",
       "      <td>32.32773753847</td>\n",
       "      <td>-46.1665560916632</td>\n",
       "      <td>?</td>\n",
       "      <td>?</td>\n",
       "      <td>?</td>\n",
       "      <td>?</td>\n",
       "      <td>?</td>\n",
       "      <td>?</td>\n",
       "    </tr>\n",
       "    <tr>\n",
       "      <th>78093</th>\n",
       "      <td>5</td>\n",
       "      <td>14</td>\n",
       "      <td>27.915311</td>\n",
       "      <td>108.007390</td>\n",
       "      <td>10.814957</td>\n",
       "      <td>-0.910435</td>\n",
       "      <td>122.464093</td>\n",
       "      <td>-47.271248</td>\n",
       "      <td>-30.084588</td>\n",
       "      <td>77.705861</td>\n",
       "      <td>...</td>\n",
       "      <td>-63.2216259324485</td>\n",
       "      <td>?</td>\n",
       "      <td>?</td>\n",
       "      <td>?</td>\n",
       "      <td>?</td>\n",
       "      <td>?</td>\n",
       "      <td>?</td>\n",
       "      <td>?</td>\n",
       "      <td>?</td>\n",
       "      <td>?</td>\n",
       "    </tr>\n",
       "    <tr>\n",
       "      <th>78094</th>\n",
       "      <td>5</td>\n",
       "      <td>14</td>\n",
       "      <td>27.898705</td>\n",
       "      <td>108.092877</td>\n",
       "      <td>11.107857</td>\n",
       "      <td>-30.031402</td>\n",
       "      <td>77.740235</td>\n",
       "      <td>-17.453099</td>\n",
       "      <td>-1.091566</td>\n",
       "      <td>122.827638</td>\n",
       "      <td>...</td>\n",
       "      <td>-63.0265744155222</td>\n",
       "      <td>78.8796525666014</td>\n",
       "      <td>31.6030997578398</td>\n",
       "      <td>-47.0137357205196</td>\n",
       "      <td>?</td>\n",
       "      <td>?</td>\n",
       "      <td>?</td>\n",
       "      <td>?</td>\n",
       "      <td>?</td>\n",
       "      <td>?</td>\n",
       "    </tr>\n",
       "  </tbody>\n",
       "</table>\n",
       "<p>78095 rows × 38 columns</p>\n",
       "</div>"
      ],
      "text/plain": [
       "       Class  User         X0          Y0         Z0         X1          Y1  \\\n",
       "0          1     0  54.263880   71.466776 -64.807709  76.895635   42.462500   \n",
       "1          1     0  56.527558   72.266609 -61.935252  39.135978   82.538530   \n",
       "2          1     0  55.849928   72.469064 -62.562788  37.988804   82.631347   \n",
       "3          1     0  55.329647   71.707275 -63.688956  36.561863   81.868749   \n",
       "4          1     0  55.142401   71.435607 -64.177303  36.175818   81.556874   \n",
       "...      ...   ...        ...         ...        ...        ...         ...   \n",
       "78090      5    14  54.251127  129.177414 -44.252511  27.720784  107.810661   \n",
       "78091      5    14  54.334883  129.253842 -44.016320  27.767911  107.914808   \n",
       "78092      5    14  54.151540  129.269502 -44.173273  27.725978  108.034006   \n",
       "78093      5    14  27.915311  108.007390  10.814957  -0.910435  122.464093   \n",
       "78094      5    14  27.898705  108.092877  11.107857 -30.031402   77.740235   \n",
       "\n",
       "              Z1         X2          Y2  ...                 Z8  \\\n",
       "0     -72.780545  36.621229   81.680557  ...                  ?   \n",
       "1     -49.596509  79.223743   43.254091  ...                  ?   \n",
       "2     -50.606259  78.451526   43.567403  ...                  ?   \n",
       "3     -52.752784  86.320630   68.214645  ...                  ?   \n",
       "4     -53.475747  76.986143   42.426849  ...                  ?   \n",
       "...          ...        ...         ...  ...                ...   \n",
       "78090  11.099282  -1.270139  122.758679  ...  -6.54311453354464   \n",
       "78091  11.069842 -30.334054   77.858214  ...  -62.1305625712145   \n",
       "78092  11.020347 -22.574718  104.222208  ...   3.83590370588782   \n",
       "78093 -47.271248 -30.084588   77.705861  ...  -63.2216259324485   \n",
       "78094 -17.453099  -1.091566  122.827638  ...  -63.0265744155222   \n",
       "\n",
       "                     X9                Y9                 Z9 X10 Y10 Z10 X11  \\\n",
       "0                     ?                 ?                  ?   ?   ?   ?   ?   \n",
       "1                     ?                 ?                  ?   ?   ?   ?   ?   \n",
       "2                     ?                 ?                  ?   ?   ?   ?   ?   \n",
       "3                     ?                 ?                  ?   ?   ?   ?   ?   \n",
       "4                     ?                 ?                  ?   ?   ?   ?   ?   \n",
       "...                 ...               ...                ...  ..  ..  ..  ..   \n",
       "78090  87.7333643096221  61.2163626180662  -62.1262783028233   ?   ?   ?   ?   \n",
       "78091  78.2298473919132  33.0784071753174  -45.2495433686171   ?   ?   ?   ?   \n",
       "78092   78.591554010542    32.32773753847  -46.1665560916632   ?   ?   ?   ?   \n",
       "78093                 ?                 ?                  ?   ?   ?   ?   ?   \n",
       "78094  78.8796525666014  31.6030997578398  -47.0137357205196   ?   ?   ?   ?   \n",
       "\n",
       "      Y11 Z11  \n",
       "0       ?   ?  \n",
       "1       ?   ?  \n",
       "2       ?   ?  \n",
       "3       ?   ?  \n",
       "4       ?   ?  \n",
       "...    ..  ..  \n",
       "78090   ?   ?  \n",
       "78091   ?   ?  \n",
       "78092   ?   ?  \n",
       "78093   ?   ?  \n",
       "78094   ?   ?  \n",
       "\n",
       "[78095 rows x 38 columns]"
      ]
     },
     "execution_count": 4,
     "metadata": {},
     "output_type": "execute_result"
    }
   ],
   "source": [
    "df.drop(index=df.index[0], axis=0, inplace=True)\n",
    "df.reset_index(drop = True)"
   ]
  },
  {
   "cell_type": "code",
   "execution_count": 5,
   "id": "severe-hamilton",
   "metadata": {},
   "outputs": [
    {
     "data": {
      "text/html": [
       "<div>\n",
       "<style scoped>\n",
       "    .dataframe tbody tr th:only-of-type {\n",
       "        vertical-align: middle;\n",
       "    }\n",
       "\n",
       "    .dataframe tbody tr th {\n",
       "        vertical-align: top;\n",
       "    }\n",
       "\n",
       "    .dataframe thead th {\n",
       "        text-align: right;\n",
       "    }\n",
       "</style>\n",
       "<table border=\"1\" class=\"dataframe\">\n",
       "  <thead>\n",
       "    <tr style=\"text-align: right;\">\n",
       "      <th></th>\n",
       "      <th>Class</th>\n",
       "      <th>User</th>\n",
       "      <th>X0</th>\n",
       "      <th>Y0</th>\n",
       "      <th>Z0</th>\n",
       "      <th>X1</th>\n",
       "      <th>Y1</th>\n",
       "      <th>Z1</th>\n",
       "      <th>X2</th>\n",
       "      <th>Y2</th>\n",
       "      <th>...</th>\n",
       "      <th>Z8</th>\n",
       "      <th>X9</th>\n",
       "      <th>Y9</th>\n",
       "      <th>Z9</th>\n",
       "      <th>X10</th>\n",
       "      <th>Y10</th>\n",
       "      <th>Z10</th>\n",
       "      <th>X11</th>\n",
       "      <th>Y11</th>\n",
       "      <th>Z11</th>\n",
       "    </tr>\n",
       "  </thead>\n",
       "  <tbody>\n",
       "    <tr>\n",
       "      <th>1</th>\n",
       "      <td>1</td>\n",
       "      <td>0</td>\n",
       "      <td>54.263880</td>\n",
       "      <td>71.466776</td>\n",
       "      <td>-64.807709</td>\n",
       "      <td>76.895635</td>\n",
       "      <td>42.462500</td>\n",
       "      <td>-72.780545</td>\n",
       "      <td>36.621229</td>\n",
       "      <td>81.680557</td>\n",
       "      <td>...</td>\n",
       "      <td>?</td>\n",
       "      <td>?</td>\n",
       "      <td>?</td>\n",
       "      <td>?</td>\n",
       "      <td>?</td>\n",
       "      <td>?</td>\n",
       "      <td>?</td>\n",
       "      <td>?</td>\n",
       "      <td>?</td>\n",
       "      <td>?</td>\n",
       "    </tr>\n",
       "    <tr>\n",
       "      <th>2</th>\n",
       "      <td>1</td>\n",
       "      <td>0</td>\n",
       "      <td>56.527558</td>\n",
       "      <td>72.266609</td>\n",
       "      <td>-61.935252</td>\n",
       "      <td>39.135978</td>\n",
       "      <td>82.538530</td>\n",
       "      <td>-49.596509</td>\n",
       "      <td>79.223743</td>\n",
       "      <td>43.254091</td>\n",
       "      <td>...</td>\n",
       "      <td>?</td>\n",
       "      <td>?</td>\n",
       "      <td>?</td>\n",
       "      <td>?</td>\n",
       "      <td>?</td>\n",
       "      <td>?</td>\n",
       "      <td>?</td>\n",
       "      <td>?</td>\n",
       "      <td>?</td>\n",
       "      <td>?</td>\n",
       "    </tr>\n",
       "    <tr>\n",
       "      <th>3</th>\n",
       "      <td>1</td>\n",
       "      <td>0</td>\n",
       "      <td>55.849928</td>\n",
       "      <td>72.469064</td>\n",
       "      <td>-62.562788</td>\n",
       "      <td>37.988804</td>\n",
       "      <td>82.631347</td>\n",
       "      <td>-50.606259</td>\n",
       "      <td>78.451526</td>\n",
       "      <td>43.567403</td>\n",
       "      <td>...</td>\n",
       "      <td>?</td>\n",
       "      <td>?</td>\n",
       "      <td>?</td>\n",
       "      <td>?</td>\n",
       "      <td>?</td>\n",
       "      <td>?</td>\n",
       "      <td>?</td>\n",
       "      <td>?</td>\n",
       "      <td>?</td>\n",
       "      <td>?</td>\n",
       "    </tr>\n",
       "    <tr>\n",
       "      <th>4</th>\n",
       "      <td>1</td>\n",
       "      <td>0</td>\n",
       "      <td>55.329647</td>\n",
       "      <td>71.707275</td>\n",
       "      <td>-63.688956</td>\n",
       "      <td>36.561863</td>\n",
       "      <td>81.868749</td>\n",
       "      <td>-52.752784</td>\n",
       "      <td>86.320630</td>\n",
       "      <td>68.214645</td>\n",
       "      <td>...</td>\n",
       "      <td>?</td>\n",
       "      <td>?</td>\n",
       "      <td>?</td>\n",
       "      <td>?</td>\n",
       "      <td>?</td>\n",
       "      <td>?</td>\n",
       "      <td>?</td>\n",
       "      <td>?</td>\n",
       "      <td>?</td>\n",
       "      <td>?</td>\n",
       "    </tr>\n",
       "    <tr>\n",
       "      <th>5</th>\n",
       "      <td>1</td>\n",
       "      <td>0</td>\n",
       "      <td>55.142401</td>\n",
       "      <td>71.435607</td>\n",
       "      <td>-64.177303</td>\n",
       "      <td>36.175818</td>\n",
       "      <td>81.556874</td>\n",
       "      <td>-53.475747</td>\n",
       "      <td>76.986143</td>\n",
       "      <td>42.426849</td>\n",
       "      <td>...</td>\n",
       "      <td>?</td>\n",
       "      <td>?</td>\n",
       "      <td>?</td>\n",
       "      <td>?</td>\n",
       "      <td>?</td>\n",
       "      <td>?</td>\n",
       "      <td>?</td>\n",
       "      <td>?</td>\n",
       "      <td>?</td>\n",
       "      <td>?</td>\n",
       "    </tr>\n",
       "  </tbody>\n",
       "</table>\n",
       "<p>5 rows × 38 columns</p>\n",
       "</div>"
      ],
      "text/plain": [
       "   Class  User         X0         Y0         Z0         X1         Y1  \\\n",
       "1      1     0  54.263880  71.466776 -64.807709  76.895635  42.462500   \n",
       "2      1     0  56.527558  72.266609 -61.935252  39.135978  82.538530   \n",
       "3      1     0  55.849928  72.469064 -62.562788  37.988804  82.631347   \n",
       "4      1     0  55.329647  71.707275 -63.688956  36.561863  81.868749   \n",
       "5      1     0  55.142401  71.435607 -64.177303  36.175818  81.556874   \n",
       "\n",
       "          Z1         X2         Y2  ...  Z8 X9 Y9 Z9 X10 Y10 Z10 X11 Y11 Z11  \n",
       "1 -72.780545  36.621229  81.680557  ...   ?  ?  ?  ?   ?   ?   ?   ?   ?   ?  \n",
       "2 -49.596509  79.223743  43.254091  ...   ?  ?  ?  ?   ?   ?   ?   ?   ?   ?  \n",
       "3 -50.606259  78.451526  43.567403  ...   ?  ?  ?  ?   ?   ?   ?   ?   ?   ?  \n",
       "4 -52.752784  86.320630  68.214645  ...   ?  ?  ?  ?   ?   ?   ?   ?   ?   ?  \n",
       "5 -53.475747  76.986143  42.426849  ...   ?  ?  ?  ?   ?   ?   ?   ?   ?   ?  \n",
       "\n",
       "[5 rows x 38 columns]"
      ]
     },
     "execution_count": 5,
     "metadata": {},
     "output_type": "execute_result"
    }
   ],
   "source": [
    "df.head()"
   ]
  },
  {
   "cell_type": "code",
   "execution_count": 6,
   "id": "female-winter",
   "metadata": {},
   "outputs": [
    {
     "data": {
      "text/plain": [
       "Class        0\n",
       "User         0\n",
       "X0           0\n",
       "Y0           0\n",
       "Z0           0\n",
       "X1           0\n",
       "Y1           0\n",
       "Z1           0\n",
       "X2           0\n",
       "Y2           0\n",
       "Z2           0\n",
       "X3         690\n",
       "Y3         690\n",
       "Z3         690\n",
       "X4        3120\n",
       "Y4        3120\n",
       "Z4        3120\n",
       "X5       13023\n",
       "Y5       13023\n",
       "Z5       13023\n",
       "X6       25848\n",
       "Y6       25848\n",
       "Z6       25848\n",
       "X7       39152\n",
       "Y7       39152\n",
       "Z7       39152\n",
       "X8       47532\n",
       "Y8       47532\n",
       "Z8       47532\n",
       "X9       54128\n",
       "Y9       54128\n",
       "Z9       54128\n",
       "X10      63343\n",
       "Y10      63343\n",
       "Z10      63343\n",
       "X11      78064\n",
       "Y11      78064\n",
       "Z11      78064\n",
       "dtype: int64"
      ]
     },
     "execution_count": 6,
     "metadata": {},
     "output_type": "execute_result"
    }
   ],
   "source": [
    "df[df == \"?\"].count()"
   ]
  },
  {
   "cell_type": "code",
   "execution_count": 7,
   "id": "parallel-absence",
   "metadata": {
    "scrolled": true
   },
   "outputs": [
    {
     "data": {
      "text/html": [
       "<div>\n",
       "<style scoped>\n",
       "    .dataframe tbody tr th:only-of-type {\n",
       "        vertical-align: middle;\n",
       "    }\n",
       "\n",
       "    .dataframe tbody tr th {\n",
       "        vertical-align: top;\n",
       "    }\n",
       "\n",
       "    .dataframe thead th {\n",
       "        text-align: right;\n",
       "    }\n",
       "</style>\n",
       "<table border=\"1\" class=\"dataframe\">\n",
       "  <thead>\n",
       "    <tr style=\"text-align: right;\">\n",
       "      <th></th>\n",
       "      <th>Class</th>\n",
       "      <th>User</th>\n",
       "      <th>X0</th>\n",
       "      <th>Y0</th>\n",
       "      <th>Z0</th>\n",
       "      <th>X1</th>\n",
       "      <th>Y1</th>\n",
       "      <th>Z1</th>\n",
       "      <th>X2</th>\n",
       "      <th>Y2</th>\n",
       "      <th>Z2</th>\n",
       "      <th>X3</th>\n",
       "      <th>Y3</th>\n",
       "      <th>Z3</th>\n",
       "      <th>X4</th>\n",
       "      <th>Y4</th>\n",
       "      <th>Z4</th>\n",
       "    </tr>\n",
       "  </thead>\n",
       "  <tbody>\n",
       "    <tr>\n",
       "      <th>1</th>\n",
       "      <td>1</td>\n",
       "      <td>0</td>\n",
       "      <td>54.263880</td>\n",
       "      <td>71.466776</td>\n",
       "      <td>-64.807709</td>\n",
       "      <td>76.895635</td>\n",
       "      <td>42.462500</td>\n",
       "      <td>-72.780545</td>\n",
       "      <td>36.621229</td>\n",
       "      <td>81.680557</td>\n",
       "      <td>-52.919272</td>\n",
       "      <td>85.2322638852917</td>\n",
       "      <td>67.7492195028673</td>\n",
       "      <td>-73.684130041833</td>\n",
       "      <td>59.1885757027887</td>\n",
       "      <td>10.6789364098231</td>\n",
       "      <td>-71.2977813147725</td>\n",
       "    </tr>\n",
       "    <tr>\n",
       "      <th>2</th>\n",
       "      <td>1</td>\n",
       "      <td>0</td>\n",
       "      <td>56.527558</td>\n",
       "      <td>72.266609</td>\n",
       "      <td>-61.935252</td>\n",
       "      <td>39.135978</td>\n",
       "      <td>82.538530</td>\n",
       "      <td>-49.596509</td>\n",
       "      <td>79.223743</td>\n",
       "      <td>43.254091</td>\n",
       "      <td>-69.982489</td>\n",
       "      <td>87.4508729469625</td>\n",
       "      <td>68.4008083028339</td>\n",
       "      <td>-70.703990925959</td>\n",
       "      <td>61.5874515532753</td>\n",
       "      <td>11.7799190329758</td>\n",
       "      <td>-68.827417756239</td>\n",
       "    </tr>\n",
       "    <tr>\n",
       "      <th>3</th>\n",
       "      <td>1</td>\n",
       "      <td>0</td>\n",
       "      <td>55.849928</td>\n",
       "      <td>72.469064</td>\n",
       "      <td>-62.562788</td>\n",
       "      <td>37.988804</td>\n",
       "      <td>82.631347</td>\n",
       "      <td>-50.606259</td>\n",
       "      <td>78.451526</td>\n",
       "      <td>43.567403</td>\n",
       "      <td>-70.658489</td>\n",
       "      <td>86.8353875680762</td>\n",
       "      <td>68.9079249764243</td>\n",
       "      <td>-71.1383441365739</td>\n",
       "      <td>61.6864271910576</td>\n",
       "      <td>11.7934398850428</td>\n",
       "      <td>-68.88931646056</td>\n",
       "    </tr>\n",
       "    <tr>\n",
       "      <th>4</th>\n",
       "      <td>1</td>\n",
       "      <td>0</td>\n",
       "      <td>55.329647</td>\n",
       "      <td>71.707275</td>\n",
       "      <td>-63.688956</td>\n",
       "      <td>36.561863</td>\n",
       "      <td>81.868749</td>\n",
       "      <td>-52.752784</td>\n",
       "      <td>86.320630</td>\n",
       "      <td>68.214645</td>\n",
       "      <td>-72.228461</td>\n",
       "      <td>61.5961571288978</td>\n",
       "      <td>11.2506481750465</td>\n",
       "      <td>-68.9564252307431</td>\n",
       "      <td>77.3872254123912</td>\n",
       "      <td>42.7178334810919</td>\n",
       "      <td>-72.0151462991019</td>\n",
       "    </tr>\n",
       "    <tr>\n",
       "      <th>5</th>\n",
       "      <td>1</td>\n",
       "      <td>0</td>\n",
       "      <td>55.142401</td>\n",
       "      <td>71.435607</td>\n",
       "      <td>-64.177303</td>\n",
       "      <td>36.175818</td>\n",
       "      <td>81.556874</td>\n",
       "      <td>-53.475747</td>\n",
       "      <td>76.986143</td>\n",
       "      <td>42.426849</td>\n",
       "      <td>-72.574743</td>\n",
       "      <td>86.3687480605765</td>\n",
       "      <td>67.9012603746826</td>\n",
       "      <td>-72.4446499648169</td>\n",
       "      <td>61.2754021959714</td>\n",
       "      <td>10.8411094568665</td>\n",
       "      <td>-69.2799064015993</td>\n",
       "    </tr>\n",
       "  </tbody>\n",
       "</table>\n",
       "</div>"
      ],
      "text/plain": [
       "   Class  User         X0         Y0         Z0         X1         Y1  \\\n",
       "1      1     0  54.263880  71.466776 -64.807709  76.895635  42.462500   \n",
       "2      1     0  56.527558  72.266609 -61.935252  39.135978  82.538530   \n",
       "3      1     0  55.849928  72.469064 -62.562788  37.988804  82.631347   \n",
       "4      1     0  55.329647  71.707275 -63.688956  36.561863  81.868749   \n",
       "5      1     0  55.142401  71.435607 -64.177303  36.175818  81.556874   \n",
       "\n",
       "          Z1         X2         Y2         Z2                X3  \\\n",
       "1 -72.780545  36.621229  81.680557 -52.919272  85.2322638852917   \n",
       "2 -49.596509  79.223743  43.254091 -69.982489  87.4508729469625   \n",
       "3 -50.606259  78.451526  43.567403 -70.658489  86.8353875680762   \n",
       "4 -52.752784  86.320630  68.214645 -72.228461  61.5961571288978   \n",
       "5 -53.475747  76.986143  42.426849 -72.574743  86.3687480605765   \n",
       "\n",
       "                 Y3                 Z3                X4                Y4  \\\n",
       "1  67.7492195028673   -73.684130041833  59.1885757027887  10.6789364098231   \n",
       "2  68.4008083028339   -70.703990925959  61.5874515532753  11.7799190329758   \n",
       "3  68.9079249764243  -71.1383441365739  61.6864271910576  11.7934398850428   \n",
       "4  11.2506481750465  -68.9564252307431  77.3872254123912  42.7178334810919   \n",
       "5  67.9012603746826  -72.4446499648169  61.2754021959714  10.8411094568665   \n",
       "\n",
       "                  Z4  \n",
       "1  -71.2977813147725  \n",
       "2   -68.827417756239  \n",
       "3    -68.88931646056  \n",
       "4  -72.0151462991019  \n",
       "5  -69.2799064015993  "
      ]
     },
     "execution_count": 7,
     "metadata": {},
     "output_type": "execute_result"
    }
   ],
   "source": [
    "df = df.drop(['X5','Y5','Z5','X6','Y6','Z6','X7','Y7','Z7','X8','Y8','Z8','X9','Y9','Z9','X10','Y10','Z10','X11','Y11','Z11'], axis=1)\n",
    "df.head()"
   ]
  },
  {
   "cell_type": "code",
   "execution_count": 8,
   "id": "quarterly-saskatchewan",
   "metadata": {},
   "outputs": [],
   "source": [
    "df = df.replace(\"?\", np.nan)"
   ]
  },
  {
   "cell_type": "code",
   "execution_count": 9,
   "id": "copyrighted-bristol",
   "metadata": {
    "scrolled": true
   },
   "outputs": [
    {
     "data": {
      "text/plain": [
       "Class    0\n",
       "User     0\n",
       "X0       0\n",
       "Y0       0\n",
       "Z0       0\n",
       "X1       0\n",
       "Y1       0\n",
       "Z1       0\n",
       "X2       0\n",
       "Y2       0\n",
       "Z2       0\n",
       "X3       0\n",
       "Y3       0\n",
       "Z3       0\n",
       "X4       0\n",
       "Y4       0\n",
       "Z4       0\n",
       "dtype: int64"
      ]
     },
     "execution_count": 9,
     "metadata": {},
     "output_type": "execute_result"
    }
   ],
   "source": [
    "df[df == \"?\"].count()"
   ]
  },
  {
   "cell_type": "code",
   "execution_count": 10,
   "id": "necessary-sucking",
   "metadata": {
    "scrolled": true
   },
   "outputs": [
    {
     "data": {
      "text/plain": [
       "Class      int64\n",
       "User       int64\n",
       "X0       float64\n",
       "Y0       float64\n",
       "Z0       float64\n",
       "X1       float64\n",
       "Y1       float64\n",
       "Z1       float64\n",
       "X2       float64\n",
       "Y2       float64\n",
       "Z2       float64\n",
       "X3        object\n",
       "Y3        object\n",
       "Z3        object\n",
       "X4        object\n",
       "Y4        object\n",
       "Z4        object\n",
       "dtype: object"
      ]
     },
     "execution_count": 10,
     "metadata": {},
     "output_type": "execute_result"
    }
   ],
   "source": [
    "df.dtypes"
   ]
  },
  {
   "cell_type": "code",
   "execution_count": 11,
   "id": "searching-tuition",
   "metadata": {},
   "outputs": [],
   "source": [
    "for i in range(2,len(df.columns)):\n",
    "    df[df.columns[i]] = df[df.columns[i]].astype('float64')\n",
    "    mean=df[df.columns[i]].mean()\n",
    "    df[df.columns[i]].fillna(value=mean, inplace=True)"
   ]
  },
  {
   "cell_type": "code",
   "execution_count": 12,
   "id": "structured-background",
   "metadata": {
    "scrolled": true
   },
   "outputs": [
    {
     "data": {
      "text/plain": [
       "Class      int64\n",
       "User       int64\n",
       "X0       float64\n",
       "Y0       float64\n",
       "Z0       float64\n",
       "X1       float64\n",
       "Y1       float64\n",
       "Z1       float64\n",
       "X2       float64\n",
       "Y2       float64\n",
       "Z2       float64\n",
       "X3       float64\n",
       "Y3       float64\n",
       "Z3       float64\n",
       "X4       float64\n",
       "Y4       float64\n",
       "Z4       float64\n",
       "dtype: object"
      ]
     },
     "execution_count": 12,
     "metadata": {},
     "output_type": "execute_result"
    }
   ],
   "source": [
    "df.dtypes"
   ]
  },
  {
   "cell_type": "code",
   "execution_count": 13,
   "id": "thorough-manufacturer",
   "metadata": {},
   "outputs": [
    {
     "data": {
      "text/plain": [
       "Class    0\n",
       "User     0\n",
       "X0       0\n",
       "Y0       0\n",
       "Z0       0\n",
       "X1       0\n",
       "Y1       0\n",
       "Z1       0\n",
       "X2       0\n",
       "Y2       0\n",
       "Z2       0\n",
       "X3       0\n",
       "Y3       0\n",
       "Z3       0\n",
       "X4       0\n",
       "Y4       0\n",
       "Z4       0\n",
       "dtype: int64"
      ]
     },
     "execution_count": 13,
     "metadata": {},
     "output_type": "execute_result"
    }
   ],
   "source": [
    "df.isna().sum()"
   ]
  },
  {
   "cell_type": "code",
   "execution_count": 14,
   "id": "valuable-adolescent",
   "metadata": {},
   "outputs": [
    {
     "data": {
      "text/html": [
       "<div>\n",
       "<style scoped>\n",
       "    .dataframe tbody tr th:only-of-type {\n",
       "        vertical-align: middle;\n",
       "    }\n",
       "\n",
       "    .dataframe tbody tr th {\n",
       "        vertical-align: top;\n",
       "    }\n",
       "\n",
       "    .dataframe thead th {\n",
       "        text-align: right;\n",
       "    }\n",
       "</style>\n",
       "<table border=\"1\" class=\"dataframe\">\n",
       "  <thead>\n",
       "    <tr style=\"text-align: right;\">\n",
       "      <th></th>\n",
       "      <th>Class</th>\n",
       "      <th>User</th>\n",
       "      <th>X0</th>\n",
       "      <th>Y0</th>\n",
       "      <th>Z0</th>\n",
       "      <th>X1</th>\n",
       "      <th>Y1</th>\n",
       "      <th>Z1</th>\n",
       "      <th>X2</th>\n",
       "      <th>Y2</th>\n",
       "      <th>Z2</th>\n",
       "      <th>X3</th>\n",
       "      <th>Y3</th>\n",
       "      <th>Z3</th>\n",
       "      <th>X4</th>\n",
       "      <th>Y4</th>\n",
       "      <th>Z4</th>\n",
       "    </tr>\n",
       "  </thead>\n",
       "  <tbody>\n",
       "  </tbody>\n",
       "</table>\n",
       "</div>"
      ],
      "text/plain": [
       "Empty DataFrame\n",
       "Columns: [Class, User, X0, Y0, Z0, X1, Y1, Z1, X2, Y2, Z2, X3, Y3, Z3, X4, Y4, Z4]\n",
       "Index: []"
      ]
     },
     "execution_count": 14,
     "metadata": {},
     "output_type": "execute_result"
    }
   ],
   "source": [
    "duplicated_rows = df[df.duplicated()]\n",
    "duplicated_rows"
   ]
  },
  {
   "cell_type": "code",
   "execution_count": 15,
   "id": "corresponding-witness",
   "metadata": {},
   "outputs": [
    {
     "data": {
      "text/html": [
       "<div>\n",
       "<style scoped>\n",
       "    .dataframe tbody tr th:only-of-type {\n",
       "        vertical-align: middle;\n",
       "    }\n",
       "\n",
       "    .dataframe tbody tr th {\n",
       "        vertical-align: top;\n",
       "    }\n",
       "\n",
       "    .dataframe thead th {\n",
       "        text-align: right;\n",
       "    }\n",
       "</style>\n",
       "<table border=\"1\" class=\"dataframe\">\n",
       "  <thead>\n",
       "    <tr style=\"text-align: right;\">\n",
       "      <th></th>\n",
       "      <th>Class</th>\n",
       "      <th>User</th>\n",
       "      <th>X0</th>\n",
       "      <th>Y0</th>\n",
       "      <th>Z0</th>\n",
       "      <th>X1</th>\n",
       "      <th>Y1</th>\n",
       "      <th>Z1</th>\n",
       "      <th>X2</th>\n",
       "      <th>Y2</th>\n",
       "      <th>Z2</th>\n",
       "      <th>X3</th>\n",
       "      <th>Y3</th>\n",
       "      <th>Z3</th>\n",
       "      <th>X4</th>\n",
       "      <th>Y4</th>\n",
       "      <th>Z4</th>\n",
       "    </tr>\n",
       "  </thead>\n",
       "  <tbody>\n",
       "    <tr>\n",
       "      <th>0</th>\n",
       "      <td>1</td>\n",
       "      <td>0</td>\n",
       "      <td>54.263880</td>\n",
       "      <td>71.466776</td>\n",
       "      <td>-64.807709</td>\n",
       "      <td>76.895635</td>\n",
       "      <td>42.462500</td>\n",
       "      <td>-72.780545</td>\n",
       "      <td>36.621229</td>\n",
       "      <td>81.680557</td>\n",
       "      <td>-52.919272</td>\n",
       "      <td>85.232264</td>\n",
       "      <td>67.749220</td>\n",
       "      <td>-73.684130</td>\n",
       "      <td>59.188576</td>\n",
       "      <td>10.678936</td>\n",
       "      <td>-71.297781</td>\n",
       "    </tr>\n",
       "    <tr>\n",
       "      <th>1</th>\n",
       "      <td>1</td>\n",
       "      <td>0</td>\n",
       "      <td>56.527558</td>\n",
       "      <td>72.266609</td>\n",
       "      <td>-61.935252</td>\n",
       "      <td>39.135978</td>\n",
       "      <td>82.538530</td>\n",
       "      <td>-49.596509</td>\n",
       "      <td>79.223743</td>\n",
       "      <td>43.254091</td>\n",
       "      <td>-69.982489</td>\n",
       "      <td>87.450873</td>\n",
       "      <td>68.400808</td>\n",
       "      <td>-70.703991</td>\n",
       "      <td>61.587452</td>\n",
       "      <td>11.779919</td>\n",
       "      <td>-68.827418</td>\n",
       "    </tr>\n",
       "    <tr>\n",
       "      <th>2</th>\n",
       "      <td>1</td>\n",
       "      <td>0</td>\n",
       "      <td>55.849928</td>\n",
       "      <td>72.469064</td>\n",
       "      <td>-62.562788</td>\n",
       "      <td>37.988804</td>\n",
       "      <td>82.631347</td>\n",
       "      <td>-50.606259</td>\n",
       "      <td>78.451526</td>\n",
       "      <td>43.567403</td>\n",
       "      <td>-70.658489</td>\n",
       "      <td>86.835388</td>\n",
       "      <td>68.907925</td>\n",
       "      <td>-71.138344</td>\n",
       "      <td>61.686427</td>\n",
       "      <td>11.793440</td>\n",
       "      <td>-68.889316</td>\n",
       "    </tr>\n",
       "    <tr>\n",
       "      <th>3</th>\n",
       "      <td>1</td>\n",
       "      <td>0</td>\n",
       "      <td>55.329647</td>\n",
       "      <td>71.707275</td>\n",
       "      <td>-63.688956</td>\n",
       "      <td>36.561863</td>\n",
       "      <td>81.868749</td>\n",
       "      <td>-52.752784</td>\n",
       "      <td>86.320630</td>\n",
       "      <td>68.214645</td>\n",
       "      <td>-72.228461</td>\n",
       "      <td>61.596157</td>\n",
       "      <td>11.250648</td>\n",
       "      <td>-68.956425</td>\n",
       "      <td>77.387225</td>\n",
       "      <td>42.717833</td>\n",
       "      <td>-72.015146</td>\n",
       "    </tr>\n",
       "    <tr>\n",
       "      <th>4</th>\n",
       "      <td>1</td>\n",
       "      <td>0</td>\n",
       "      <td>55.142401</td>\n",
       "      <td>71.435607</td>\n",
       "      <td>-64.177303</td>\n",
       "      <td>36.175818</td>\n",
       "      <td>81.556874</td>\n",
       "      <td>-53.475747</td>\n",
       "      <td>76.986143</td>\n",
       "      <td>42.426849</td>\n",
       "      <td>-72.574743</td>\n",
       "      <td>86.368748</td>\n",
       "      <td>67.901260</td>\n",
       "      <td>-72.444650</td>\n",
       "      <td>61.275402</td>\n",
       "      <td>10.841109</td>\n",
       "      <td>-69.279906</td>\n",
       "    </tr>\n",
       "    <tr>\n",
       "      <th>...</th>\n",
       "      <td>...</td>\n",
       "      <td>...</td>\n",
       "      <td>...</td>\n",
       "      <td>...</td>\n",
       "      <td>...</td>\n",
       "      <td>...</td>\n",
       "      <td>...</td>\n",
       "      <td>...</td>\n",
       "      <td>...</td>\n",
       "      <td>...</td>\n",
       "      <td>...</td>\n",
       "      <td>...</td>\n",
       "      <td>...</td>\n",
       "      <td>...</td>\n",
       "      <td>...</td>\n",
       "      <td>...</td>\n",
       "      <td>...</td>\n",
       "    </tr>\n",
       "    <tr>\n",
       "      <th>76924</th>\n",
       "      <td>5</td>\n",
       "      <td>14</td>\n",
       "      <td>54.251127</td>\n",
       "      <td>129.177414</td>\n",
       "      <td>-44.252511</td>\n",
       "      <td>27.720784</td>\n",
       "      <td>107.810661</td>\n",
       "      <td>11.099282</td>\n",
       "      <td>-1.270139</td>\n",
       "      <td>122.758679</td>\n",
       "      <td>-46.460186</td>\n",
       "      <td>-1.901940</td>\n",
       "      <td>98.056881</td>\n",
       "      <td>4.075018</td>\n",
       "      <td>26.030878</td>\n",
       "      <td>136.368236</td>\n",
       "      <td>-32.792393</td>\n",
       "    </tr>\n",
       "    <tr>\n",
       "      <th>76925</th>\n",
       "      <td>5</td>\n",
       "      <td>14</td>\n",
       "      <td>54.334883</td>\n",
       "      <td>129.253842</td>\n",
       "      <td>-44.016320</td>\n",
       "      <td>27.767911</td>\n",
       "      <td>107.914808</td>\n",
       "      <td>11.069842</td>\n",
       "      <td>-30.334054</td>\n",
       "      <td>77.858214</td>\n",
       "      <td>-17.002723</td>\n",
       "      <td>-22.743924</td>\n",
       "      <td>104.726272</td>\n",
       "      <td>-53.007244</td>\n",
       "      <td>26.446943</td>\n",
       "      <td>135.823494</td>\n",
       "      <td>-33.851425</td>\n",
       "    </tr>\n",
       "    <tr>\n",
       "      <th>76926</th>\n",
       "      <td>5</td>\n",
       "      <td>14</td>\n",
       "      <td>54.151540</td>\n",
       "      <td>129.269502</td>\n",
       "      <td>-44.173273</td>\n",
       "      <td>27.725978</td>\n",
       "      <td>108.034006</td>\n",
       "      <td>11.020347</td>\n",
       "      <td>-22.574718</td>\n",
       "      <td>104.222208</td>\n",
       "      <td>-53.939140</td>\n",
       "      <td>-30.225675</td>\n",
       "      <td>77.688911</td>\n",
       "      <td>-17.354844</td>\n",
       "      <td>26.506640</td>\n",
       "      <td>135.605903</td>\n",
       "      <td>-34.441463</td>\n",
       "    </tr>\n",
       "    <tr>\n",
       "      <th>76927</th>\n",
       "      <td>5</td>\n",
       "      <td>14</td>\n",
       "      <td>27.915311</td>\n",
       "      <td>108.007390</td>\n",
       "      <td>10.814957</td>\n",
       "      <td>-0.910435</td>\n",
       "      <td>122.464093</td>\n",
       "      <td>-47.271248</td>\n",
       "      <td>-30.084588</td>\n",
       "      <td>77.705861</td>\n",
       "      <td>-17.460853</td>\n",
       "      <td>26.715915</td>\n",
       "      <td>135.523929</td>\n",
       "      <td>-34.675774</td>\n",
       "      <td>-22.329495</td>\n",
       "      <td>104.026431</td>\n",
       "      <td>-54.334623</td>\n",
       "    </tr>\n",
       "    <tr>\n",
       "      <th>76928</th>\n",
       "      <td>5</td>\n",
       "      <td>14</td>\n",
       "      <td>27.898705</td>\n",
       "      <td>108.092877</td>\n",
       "      <td>11.107857</td>\n",
       "      <td>-30.031402</td>\n",
       "      <td>77.740235</td>\n",
       "      <td>-17.453099</td>\n",
       "      <td>-1.091566</td>\n",
       "      <td>122.827638</td>\n",
       "      <td>-46.760985</td>\n",
       "      <td>53.965333</td>\n",
       "      <td>129.602374</td>\n",
       "      <td>-43.679664</td>\n",
       "      <td>-1.558846</td>\n",
       "      <td>98.017201</td>\n",
       "      <td>3.421814</td>\n",
       "    </tr>\n",
       "  </tbody>\n",
       "</table>\n",
       "<p>76929 rows × 17 columns</p>\n",
       "</div>"
      ],
      "text/plain": [
       "       Class  User         X0          Y0         Z0         X1          Y1  \\\n",
       "0          1     0  54.263880   71.466776 -64.807709  76.895635   42.462500   \n",
       "1          1     0  56.527558   72.266609 -61.935252  39.135978   82.538530   \n",
       "2          1     0  55.849928   72.469064 -62.562788  37.988804   82.631347   \n",
       "3          1     0  55.329647   71.707275 -63.688956  36.561863   81.868749   \n",
       "4          1     0  55.142401   71.435607 -64.177303  36.175818   81.556874   \n",
       "...      ...   ...        ...         ...        ...        ...         ...   \n",
       "76924      5    14  54.251127  129.177414 -44.252511  27.720784  107.810661   \n",
       "76925      5    14  54.334883  129.253842 -44.016320  27.767911  107.914808   \n",
       "76926      5    14  54.151540  129.269502 -44.173273  27.725978  108.034006   \n",
       "76927      5    14  27.915311  108.007390  10.814957  -0.910435  122.464093   \n",
       "76928      5    14  27.898705  108.092877  11.107857 -30.031402   77.740235   \n",
       "\n",
       "              Z1         X2          Y2         Z2         X3          Y3  \\\n",
       "0     -72.780545  36.621229   81.680557 -52.919272  85.232264   67.749220   \n",
       "1     -49.596509  79.223743   43.254091 -69.982489  87.450873   68.400808   \n",
       "2     -50.606259  78.451526   43.567403 -70.658489  86.835388   68.907925   \n",
       "3     -52.752784  86.320630   68.214645 -72.228461  61.596157   11.250648   \n",
       "4     -53.475747  76.986143   42.426849 -72.574743  86.368748   67.901260   \n",
       "...          ...        ...         ...        ...        ...         ...   \n",
       "76924  11.099282  -1.270139  122.758679 -46.460186  -1.901940   98.056881   \n",
       "76925  11.069842 -30.334054   77.858214 -17.002723 -22.743924  104.726272   \n",
       "76926  11.020347 -22.574718  104.222208 -53.939140 -30.225675   77.688911   \n",
       "76927 -47.271248 -30.084588   77.705861 -17.460853  26.715915  135.523929   \n",
       "76928 -17.453099  -1.091566  122.827638 -46.760985  53.965333  129.602374   \n",
       "\n",
       "              Z3         X4          Y4         Z4  \n",
       "0     -73.684130  59.188576   10.678936 -71.297781  \n",
       "1     -70.703991  61.587452   11.779919 -68.827418  \n",
       "2     -71.138344  61.686427   11.793440 -68.889316  \n",
       "3     -68.956425  77.387225   42.717833 -72.015146  \n",
       "4     -72.444650  61.275402   10.841109 -69.279906  \n",
       "...          ...        ...         ...        ...  \n",
       "76924   4.075018  26.030878  136.368236 -32.792393  \n",
       "76925 -53.007244  26.446943  135.823494 -33.851425  \n",
       "76926 -17.354844  26.506640  135.605903 -34.441463  \n",
       "76927 -34.675774 -22.329495  104.026431 -54.334623  \n",
       "76928 -43.679664  -1.558846   98.017201   3.421814  \n",
       "\n",
       "[76929 rows x 17 columns]"
      ]
     },
     "execution_count": 15,
     "metadata": {},
     "output_type": "execute_result"
    }
   ],
   "source": [
    "Q1 = df[2:None].quantile(0.25)\n",
    "Q3 = df[2:None].quantile(0.75)\n",
    "IQR = Q3 - Q1\n",
    "df = df[~((df < (Q1 - 1.5 * IQR)) |(df > (Q3 + 1.5 * IQR))).any(axis=1)]\n",
    "df.reset_index(drop = True)"
   ]
  },
  {
   "cell_type": "code",
   "execution_count": 16,
   "id": "external-statistics",
   "metadata": {
    "scrolled": true
   },
   "outputs": [
    {
     "data": {
      "text/html": [
       "<div>\n",
       "<style scoped>\n",
       "    .dataframe tbody tr th:only-of-type {\n",
       "        vertical-align: middle;\n",
       "    }\n",
       "\n",
       "    .dataframe tbody tr th {\n",
       "        vertical-align: top;\n",
       "    }\n",
       "\n",
       "    .dataframe thead th {\n",
       "        text-align: right;\n",
       "    }\n",
       "</style>\n",
       "<table border=\"1\" class=\"dataframe\">\n",
       "  <thead>\n",
       "    <tr style=\"text-align: right;\">\n",
       "      <th></th>\n",
       "      <th>Class</th>\n",
       "      <th>User</th>\n",
       "      <th>X0</th>\n",
       "      <th>Y0</th>\n",
       "      <th>Z0</th>\n",
       "      <th>X1</th>\n",
       "      <th>Y1</th>\n",
       "      <th>Z1</th>\n",
       "      <th>X2</th>\n",
       "      <th>Y2</th>\n",
       "      <th>Z2</th>\n",
       "      <th>X3</th>\n",
       "      <th>Y3</th>\n",
       "      <th>Z3</th>\n",
       "      <th>X4</th>\n",
       "      <th>Y4</th>\n",
       "      <th>Z4</th>\n",
       "    </tr>\n",
       "  </thead>\n",
       "  <tbody>\n",
       "    <tr>\n",
       "      <th>1</th>\n",
       "      <td>1</td>\n",
       "      <td>0</td>\n",
       "      <td>54.263880</td>\n",
       "      <td>71.466776</td>\n",
       "      <td>-64.807709</td>\n",
       "      <td>76.895635</td>\n",
       "      <td>42.462500</td>\n",
       "      <td>-72.780545</td>\n",
       "      <td>36.621229</td>\n",
       "      <td>81.680557</td>\n",
       "      <td>-52.919272</td>\n",
       "      <td>85.232264</td>\n",
       "      <td>67.749220</td>\n",
       "      <td>-73.684130</td>\n",
       "      <td>59.188576</td>\n",
       "      <td>10.678936</td>\n",
       "      <td>-71.297781</td>\n",
       "    </tr>\n",
       "    <tr>\n",
       "      <th>2</th>\n",
       "      <td>1</td>\n",
       "      <td>0</td>\n",
       "      <td>56.527558</td>\n",
       "      <td>72.266609</td>\n",
       "      <td>-61.935252</td>\n",
       "      <td>39.135978</td>\n",
       "      <td>82.538530</td>\n",
       "      <td>-49.596509</td>\n",
       "      <td>79.223743</td>\n",
       "      <td>43.254091</td>\n",
       "      <td>-69.982489</td>\n",
       "      <td>87.450873</td>\n",
       "      <td>68.400808</td>\n",
       "      <td>-70.703991</td>\n",
       "      <td>61.587452</td>\n",
       "      <td>11.779919</td>\n",
       "      <td>-68.827418</td>\n",
       "    </tr>\n",
       "    <tr>\n",
       "      <th>3</th>\n",
       "      <td>1</td>\n",
       "      <td>0</td>\n",
       "      <td>55.849928</td>\n",
       "      <td>72.469064</td>\n",
       "      <td>-62.562788</td>\n",
       "      <td>37.988804</td>\n",
       "      <td>82.631347</td>\n",
       "      <td>-50.606259</td>\n",
       "      <td>78.451526</td>\n",
       "      <td>43.567403</td>\n",
       "      <td>-70.658489</td>\n",
       "      <td>86.835388</td>\n",
       "      <td>68.907925</td>\n",
       "      <td>-71.138344</td>\n",
       "      <td>61.686427</td>\n",
       "      <td>11.793440</td>\n",
       "      <td>-68.889316</td>\n",
       "    </tr>\n",
       "    <tr>\n",
       "      <th>4</th>\n",
       "      <td>1</td>\n",
       "      <td>0</td>\n",
       "      <td>55.329647</td>\n",
       "      <td>71.707275</td>\n",
       "      <td>-63.688956</td>\n",
       "      <td>36.561863</td>\n",
       "      <td>81.868749</td>\n",
       "      <td>-52.752784</td>\n",
       "      <td>86.320630</td>\n",
       "      <td>68.214645</td>\n",
       "      <td>-72.228461</td>\n",
       "      <td>61.596157</td>\n",
       "      <td>11.250648</td>\n",
       "      <td>-68.956425</td>\n",
       "      <td>77.387225</td>\n",
       "      <td>42.717833</td>\n",
       "      <td>-72.015146</td>\n",
       "    </tr>\n",
       "    <tr>\n",
       "      <th>5</th>\n",
       "      <td>1</td>\n",
       "      <td>0</td>\n",
       "      <td>55.142401</td>\n",
       "      <td>71.435607</td>\n",
       "      <td>-64.177303</td>\n",
       "      <td>36.175818</td>\n",
       "      <td>81.556874</td>\n",
       "      <td>-53.475747</td>\n",
       "      <td>76.986143</td>\n",
       "      <td>42.426849</td>\n",
       "      <td>-72.574743</td>\n",
       "      <td>86.368748</td>\n",
       "      <td>67.901260</td>\n",
       "      <td>-72.444650</td>\n",
       "      <td>61.275402</td>\n",
       "      <td>10.841109</td>\n",
       "      <td>-69.279906</td>\n",
       "    </tr>\n",
       "  </tbody>\n",
       "</table>\n",
       "</div>"
      ],
      "text/plain": [
       "   Class  User         X0         Y0         Z0         X1         Y1  \\\n",
       "1      1     0  54.263880  71.466776 -64.807709  76.895635  42.462500   \n",
       "2      1     0  56.527558  72.266609 -61.935252  39.135978  82.538530   \n",
       "3      1     0  55.849928  72.469064 -62.562788  37.988804  82.631347   \n",
       "4      1     0  55.329647  71.707275 -63.688956  36.561863  81.868749   \n",
       "5      1     0  55.142401  71.435607 -64.177303  36.175818  81.556874   \n",
       "\n",
       "          Z1         X2         Y2         Z2         X3         Y3  \\\n",
       "1 -72.780545  36.621229  81.680557 -52.919272  85.232264  67.749220   \n",
       "2 -49.596509  79.223743  43.254091 -69.982489  87.450873  68.400808   \n",
       "3 -50.606259  78.451526  43.567403 -70.658489  86.835388  68.907925   \n",
       "4 -52.752784  86.320630  68.214645 -72.228461  61.596157  11.250648   \n",
       "5 -53.475747  76.986143  42.426849 -72.574743  86.368748  67.901260   \n",
       "\n",
       "          Z3         X4         Y4         Z4  \n",
       "1 -73.684130  59.188576  10.678936 -71.297781  \n",
       "2 -70.703991  61.587452  11.779919 -68.827418  \n",
       "3 -71.138344  61.686427  11.793440 -68.889316  \n",
       "4 -68.956425  77.387225  42.717833 -72.015146  \n",
       "5 -72.444650  61.275402  10.841109 -69.279906  "
      ]
     },
     "execution_count": 16,
     "metadata": {},
     "output_type": "execute_result"
    }
   ],
   "source": [
    "df.head()"
   ]
  },
  {
   "cell_type": "code",
   "execution_count": 17,
   "id": "annual-fellowship",
   "metadata": {},
   "outputs": [
    {
     "data": {
      "text/plain": [
       "76929"
      ]
     },
     "execution_count": 17,
     "metadata": {},
     "output_type": "execute_result"
    }
   ],
   "source": [
    "len(df) #nearly 2k column dropped"
   ]
  },
  {
   "cell_type": "markdown",
   "id": "friendly-mexican",
   "metadata": {},
   "source": [
    "## Data Visualization"
   ]
  },
  {
   "cell_type": "markdown",
   "id": "atmospheric-halloween",
   "metadata": {},
   "source": [
    "Class and User graphs don't make much sense but we can see coordinate distrubiton from other graphs."
   ]
  },
  {
   "cell_type": "code",
   "execution_count": 18,
   "id": "forced-silence",
   "metadata": {},
   "outputs": [
    {
     "data": {
      "image/png": "[encoded data removed]",
      "text/plain": [
       "<Figure size 1440x1080 with 18 Axes>"
      ]
     },
     "metadata": {
      "needs_background": "light"
     },
     "output_type": "display_data"
    }
   ],
   "source": [
    "df.plot(subplots=True, layout=(3,6),figsize=(20,15))\n",
    "plt.show()"
   ]
  },
  {
   "cell_type": "markdown",
   "id": "molecular-poetry",
   "metadata": {},
   "source": [
    "This graph shows us outliers, mean, median etc. <br>\n",
    "We don't see much outliers because I removed outliers in preprocessing part."
   ]
  },
  {
   "cell_type": "code",
   "execution_count": 19,
   "id": "swiss-firmware",
   "metadata": {},
   "outputs": [
    {
     "data": {
      "image/png": "[encoded data removed]",
      "text/plain": [
       "<Figure size 1440x576 with 1 Axes>"
      ]
     },
     "metadata": {
      "needs_background": "light"
     },
     "output_type": "display_data"
    }
   ],
   "source": [
    "outlier_detection = dict(markerfacecolor='r', marker='D')\n",
    "plt.subplots(figsize=(20, 8))\n",
    "plt.boxplot(df,vert=False,flierprops=outlier_detection)\n",
    "plt.xlabel(\"Values\",Fontsize=16)\n",
    "plt.ylabel(\"Features\",Fontsize=16)\n",
    "plt.show()"
   ]
  },
  {
   "cell_type": "markdown",
   "id": "shaped-colon",
   "metadata": {},
   "source": [
    "Heatmap of Class, User and degree 0 coordinates , just for presentation."
   ]
  },
  {
   "cell_type": "code",
   "execution_count": 22,
   "id": "informed-wound",
   "metadata": {},
   "outputs": [
    {
     "data": {
      "application/vnd.plotly.v1+json": {
       "config": {
        "plotlyServerURL": "https://plot.ly"
       },
       "data": [
        {
         "coloraxis": "coloraxis",
         "hovertemplate": "x: %{x}<br>y: %{y}<br>color: %{z}<extra></extra>",
         "name": "0",
         "texttemplate": "%{z}",
         "type": "heatmap",
         "x": [
          "Class",
          "User",
          "X0",
          "Y0",
          "Z0"
         ],
         "xaxis": "x",
         "y": [
          "Class",
          "User",
          "X0",
          "Y0",
          "Z0"
         ],
         "yaxis": "y",
         "z": [
          [
           1,
           -0.029288608899671283,
           0.07550214489844875,
           0.07862276992572605,
           0.051958578367513816
          ],
          [
           -0.029288608899671283,
           1,
           -0.008635224094409125,
           0.07140150982284017,
           0.20387487706322915
          ],
          [
           0.07550214489844875,
           -0.008635224094409125,
           1,
           -0.29617571916188457,
           -0.2555833720897389
          ],
          [
           0.07862276992572605,
           0.07140150982284017,
           -0.29617571916188457,
           1,
           0.58071398489442
          ],
          [
           0.051958578367513816,
           0.20387487706322915,
           -0.2555833720897389,
           0.58071398489442,
           1
          ]
         ]
        }
       ],
       "layout": {
        "coloraxis": {
         "colorscale": [
          [
           0,
           "#0d0887"
          ],
          [
           0.1111111111111111,
           "#46039f"
          ],
          [
           0.2222222222222222,
           "#7201a8"
          ],
          [
           0.3333333333333333,
           "#9c179e"
          ],
          [
           0.4444444444444444,
           "#bd3786"
          ],
          [
           0.5555555555555556,
           "#d8576b"
          ],
          [
           0.6666666666666666,
           "#ed7953"
          ],
          [
           0.7777777777777778,
           "#fb9f3a"
          ],
          [
           0.8888888888888888,
           "#fdca26"
          ],
          [
           1,
           "#f0f921"
          ]
         ]
        },
        "template": {
         "data": {
          "bar": [
           {
            "error_x": {
             "color": "#2a3f5f"
            },
            "error_y": {
             "color": "#2a3f5f"
            },
            "marker": {
             "line": {
              "color": "#E5ECF6",
              "width": 0.5
             },
             "pattern": {
              "fillmode": "overlay",
              "size": 10,
              "solidity": 0.2
             }
            },
            "type": "bar"
           }
          ],
          "barpolar": [
           {
            "marker": {
             "line": {
              "color": "#E5ECF6",
              "width": 0.5
             },
             "pattern": {
              "fillmode": "overlay",
              "size": 10,
              "solidity": 0.2
             }
            },
            "type": "barpolar"
           }
          ],
          "carpet": [
           {
            "aaxis": {
             "endlinecolor": "#2a3f5f",
             "gridcolor": "white",
             "linecolor": "white",
             "minorgridcolor": "white",
             "startlinecolor": "#2a3f5f"
            },
            "baxis": {
             "endlinecolor": "#2a3f5f",
             "gridcolor": "white",
             "linecolor": "white",
             "minorgridcolor": "white",
             "startlinecolor": "#2a3f5f"
            },
            "type": "carpet"
           }
          ],
          "choropleth": [
           {
            "colorbar": {
             "outlinewidth": 0,
             "ticks": ""
            },
            "type": "choropleth"
           }
          ],
          "contour": [
           {
            "colorbar": {
             "outlinewidth": 0,
             "ticks": ""
            },
            "colorscale": [
             [
              0,
              "#0d0887"
             ],
             [
              0.1111111111111111,
              "#46039f"
             ],
             [
              0.2222222222222222,
              "#7201a8"
             ],
             [
              0.3333333333333333,
              "#9c179e"
             ],
             [
              0.4444444444444444,
              "#bd3786"
             ],
             [
              0.5555555555555556,
              "#d8576b"
             ],
             [
              0.6666666666666666,
              "#ed7953"
             ],
             [
              0.7777777777777778,
              "#fb9f3a"
             ],
             [
              0.8888888888888888,
              "#fdca26"
             ],
             [
              1,
              "#f0f921"
             ]
            ],
            "type": "contour"
           }
          ],
          "contourcarpet": [
           {
            "colorbar": {
             "outlinewidth": 0,
             "ticks": ""
            },
            "type": "contourcarpet"
           }
          ],
          "heatmap": [
           {
            "colorbar": {
             "outlinewidth": 0,
             "ticks": ""
            },
            "colorscale": [
             [
              0,
              "#0d0887"
             ],
             [
              0.1111111111111111,
              "#46039f"
             ],
             [
              0.2222222222222222,
              "#7201a8"
             ],
             [
              0.3333333333333333,
              "#9c179e"
             ],
             [
              0.4444444444444444,
              "#bd3786"
             ],
             [
              0.5555555555555556,
              "#d8576b"
             ],
             [
              0.6666666666666666,
              "#ed7953"
             ],
             [
              0.7777777777777778,
              "#fb9f3a"
             ],
             [
              0.8888888888888888,
              "#fdca26"
             ],
             [
              1,
              "#f0f921"
             ]
            ],
            "type": "heatmap"
           }
          ],
          "heatmapgl": [
           {
            "colorbar": {
             "outlinewidth": 0,
             "ticks": ""
            },
            "colorscale": [
             [
              0,
              "#0d0887"
             ],
             [
              0.1111111111111111,
              "#46039f"
             ],
             [
              0.2222222222222222,
              "#7201a8"
             ],
             [
              0.3333333333333333,
              "#9c179e"
             ],
             [
              0.4444444444444444,
              "#bd3786"
             ],
             [
              0.5555555555555556,
              "#d8576b"
             ],
             [
              0.6666666666666666,
              "#ed7953"
             ],
             [
              0.7777777777777778,
              "#fb9f3a"
             ],
             [
              0.8888888888888888,
              "#fdca26"
             ],
             [
              1,
              "#f0f921"
             ]
            ],
            "type": "heatmapgl"
           }
          ],
          "histogram": [
           {
            "marker": {
             "pattern": {
              "fillmode": "overlay",
              "size": 10,
              "solidity": 0.2
             }
            },
            "type": "histogram"
           }
          ],
          "histogram2d": [
           {
            "colorbar": {
             "outlinewidth": 0,
             "ticks": ""
            },
            "colorscale": [
             [
              0,
              "#0d0887"
             ],
             [
              0.1111111111111111,
              "#46039f"
             ],
             [
              0.2222222222222222,
              "#7201a8"
             ],
             [
              0.3333333333333333,
              "#9c179e"
             ],
             [
              0.4444444444444444,
              "#bd3786"
             ],
             [
              0.5555555555555556,
              "#d8576b"
             ],
             [
              0.6666666666666666,
              "#ed7953"
             ],
             [
              0.7777777777777778,
              "#fb9f3a"
             ],
             [
              0.8888888888888888,
              "#fdca26"
             ],
             [
              1,
              "#f0f921"
             ]
            ],
            "type": "histogram2d"
           }
          ],
          "histogram2dcontour": [
           {
            "colorbar": {
             "outlinewidth": 0,
             "ticks": ""
            },
            "colorscale": [
             [
              0,
              "#0d0887"
             ],
             [
              0.1111111111111111,
              "#46039f"
             ],
             [
              0.2222222222222222,
              "#7201a8"
             ],
             [
              0.3333333333333333,
              "#9c179e"
             ],
             [
              0.4444444444444444,
              "#bd3786"
             ],
             [
              0.5555555555555556,
              "#d8576b"
             ],
             [
              0.6666666666666666,
              "#ed7953"
             ],
             [
              0.7777777777777778,
              "#fb9f3a"
             ],
             [
              0.8888888888888888,
              "#fdca26"
             ],
             [
              1,
              "#f0f921"
             ]
            ],
            "type": "histogram2dcontour"
           }
          ],
          "mesh3d": [
           {
            "colorbar": {
             "outlinewidth": 0,
             "ticks": ""
            },
            "type": "mesh3d"
           }
          ],
          "parcoords": [
           {
            "line": {
             "colorbar": {
              "outlinewidth": 0,
              "ticks": ""
             }
            },
            "type": "parcoords"
           }
          ],
          "pie": [
           {
            "automargin": true,
            "type": "pie"
           }
          ],
          "scatter": [
           {
            "fillpattern": {
             "fillmode": "overlay",
             "size": 10,
             "solidity": 0.2
            },
            "type": "scatter"
           }
          ],
          "scatter3d": [
           {
            "line": {
             "colorbar": {
              "outlinewidth": 0,
              "ticks": ""
             }
            },
            "marker": {
             "colorbar": {
              "outlinewidth": 0,
              "ticks": ""
             }
            },
            "type": "scatter3d"
           }
          ],
          "scattercarpet": [
           {
            "marker": {
             "colorbar": {
              "outlinewidth": 0,
              "ticks": ""
             }
            },
            "type": "scattercarpet"
           }
          ],
          "scattergeo": [
           {
            "marker": {
             "colorbar": {
              "outlinewidth": 0,
              "ticks": ""
             }
            },
            "type": "scattergeo"
           }
          ],
          "scattergl": [
           {
            "marker": {
             "colorbar": {
              "outlinewidth": 0,
              "ticks": ""
             }
            },
            "type": "scattergl"
           }
          ],
          "scattermapbox": [
           {
            "marker": {
             "colorbar": {
              "outlinewidth": 0,
              "ticks": ""
             }
            },
            "type": "scattermapbox"
           }
          ],
          "scatterpolar": [
           {
            "marker": {
             "colorbar": {
              "outlinewidth": 0,
              "ticks": ""
             }
            },
            "type": "scatterpolar"
           }
          ],
          "scatterpolargl": [
           {
            "marker": {
             "colorbar": {
              "outlinewidth": 0,
              "ticks": ""
             }
            },
            "type": "scatterpolargl"
           }
          ],
          "scatterternary": [
           {
            "marker": {
             "colorbar": {
              "outlinewidth": 0,
              "ticks": ""
             }
            },
            "type": "scatterternary"
           }
          ],
          "surface": [
           {
            "colorbar": {
             "outlinewidth": 0,
             "ticks": ""
            },
            "colorscale": [
             [
              0,
              "#0d0887"
             ],
             [
              0.1111111111111111,
              "#46039f"
             ],
             [
              0.2222222222222222,
              "#7201a8"
             ],
             [
              0.3333333333333333,
              "#9c179e"
             ],
             [
              0.4444444444444444,
              "#bd3786"
             ],
             [
              0.5555555555555556,
              "#d8576b"
             ],
             [
              0.6666666666666666,
              "#ed7953"
             ],
             [
              0.7777777777777778,
              "#fb9f3a"
             ],
             [
              0.8888888888888888,
              "#fdca26"
             ],
             [
              1,
              "#f0f921"
             ]
            ],
            "type": "surface"
           }
          ],
          "table": [
           {
            "cells": {
             "fill": {
              "color": "#EBF0F8"
             },
             "line": {
              "color": "white"
             }
            },
            "header": {
             "fill": {
              "color": "#C8D4E3"
             },
             "line": {
              "color": "white"
             }
            },
            "type": "table"
           }
          ]
         },
         "layout": {
          "annotationdefaults": {
           "arrowcolor": "#2a3f5f",
           "arrowhead": 0,
           "arrowwidth": 1
          },
          "autotypenumbers": "strict",
          "coloraxis": {
           "colorbar": {
            "outlinewidth": 0,
            "ticks": ""
           }
          },
          "colorscale": {
           "diverging": [
            [
             0,
             "#8e0152"
            ],
            [
             0.1,
             "#c51b7d"
            ],
            [
             0.2,
             "#de77ae"
            ],
            [
             0.3,
             "#f1b6da"
            ],
            [
             0.4,
             "#fde0ef"
            ],
            [
             0.5,
             "#f7f7f7"
            ],
            [
             0.6,
             "#e6f5d0"
            ],
            [
             0.7,
             "#b8e186"
            ],
            [
             0.8,
             "#7fbc41"
            ],
            [
             0.9,
             "#4d9221"
            ],
            [
             1,
             "#276419"
            ]
           ],
           "sequential": [
            [
             0,
             "#0d0887"
            ],
            [
             0.1111111111111111,
             "#46039f"
            ],
            [
             0.2222222222222222,
             "#7201a8"
            ],
            [
             0.3333333333333333,
             "#9c179e"
            ],
            [
             0.4444444444444444,
             "#bd3786"
            ],
            [
             0.5555555555555556,
             "#d8576b"
            ],
            [
             0.6666666666666666,
             "#ed7953"
            ],
            [
             0.7777777777777778,
             "#fb9f3a"
            ],
            [
             0.8888888888888888,
             "#fdca26"
            ],
            [
             1,
             "#f0f921"
            ]
           ],
           "sequentialminus": [
            [
             0,
             "#0d0887"
            ],
            [
             0.1111111111111111,
             "#46039f"
            ],
            [
             0.2222222222222222,
             "#7201a8"
            ],
            [
             0.3333333333333333,
             "#9c179e"
            ],
            [
             0.4444444444444444,
             "#bd3786"
            ],
            [
             0.5555555555555556,
             "#d8576b"
            ],
            [
             0.6666666666666666,
             "#ed7953"
            ],
            [
             0.7777777777777778,
             "#fb9f3a"
            ],
            [
             0.8888888888888888,
             "#fdca26"
            ],
            [
             1,
             "#f0f921"
            ]
           ]
          },
          "colorway": [
           "#636efa",
           "#EF553B",
           "#00cc96",
           "#ab63fa",
           "#FFA15A",
           "#19d3f3",
           "#FF6692",
           "#B6E880",
           "#FF97FF",
           "#FECB52"
          ],
          "font": {
           "color": "#2a3f5f"
          },
          "geo": {
           "bgcolor": "white",
           "lakecolor": "white",
           "landcolor": "#E5ECF6",
           "showlakes": true,
           "showland": true,
           "subunitcolor": "white"
          },
          "hoverlabel": {
           "align": "left"
          },
          "hovermode": "closest",
          "mapbox": {
           "style": "light"
          },
          "paper_bgcolor": "white",
          "plot_bgcolor": "#E5ECF6",
          "polar": {
           "angularaxis": {
            "gridcolor": "white",
            "linecolor": "white",
            "ticks": ""
           },
           "bgcolor": "#E5ECF6",
           "radialaxis": {
            "gridcolor": "white",
            "linecolor": "white",
            "ticks": ""
           }
          },
          "scene": {
           "xaxis": {
            "backgroundcolor": "#E5ECF6",
            "gridcolor": "white",
            "gridwidth": 2,
            "linecolor": "white",
            "showbackground": true,
            "ticks": "",
            "zerolinecolor": "white"
           },
           "yaxis": {
            "backgroundcolor": "#E5ECF6",
            "gridcolor": "white",
            "gridwidth": 2,
            "linecolor": "white",
            "showbackground": true,
            "ticks": "",
            "zerolinecolor": "white"
           },
           "zaxis": {
            "backgroundcolor": "#E5ECF6",
            "gridcolor": "white",
            "gridwidth": 2,
            "linecolor": "white",
            "showbackground": true,
            "ticks": "",
            "zerolinecolor": "white"
           }
          },
          "shapedefaults": {
           "line": {
            "color": "#2a3f5f"
           }
          },
          "ternary": {
           "aaxis": {
            "gridcolor": "white",
            "linecolor": "white",
            "ticks": ""
           },
           "baxis": {
            "gridcolor": "white",
            "linecolor": "white",
            "ticks": ""
           },
           "bgcolor": "#E5ECF6",
           "caxis": {
            "gridcolor": "white",
            "linecolor": "white",
            "ticks": ""
           }
          },
          "title": {
           "x": 0.05
          },
          "xaxis": {
           "automargin": true,
           "gridcolor": "white",
           "linecolor": "white",
           "ticks": "",
           "title": {
            "standoff": 15
           },
           "zerolinecolor": "white",
           "zerolinewidth": 2
          },
          "yaxis": {
           "automargin": true,
           "gridcolor": "white",
           "linecolor": "white",
           "ticks": "",
           "title": {
            "standoff": 15
           },
           "zerolinecolor": "white",
           "zerolinewidth": 2
          }
         }
        },
        "title": {
         "text": "Heatmap of Class & User & Coordinates-0"
        },
        "xaxis": {
         "anchor": "y",
         "constrain": "domain",
         "domain": [
          0,
          1
         ],
         "scaleanchor": "y"
        },
        "yaxis": {
         "anchor": "x",
         "autorange": "reversed",
         "constrain": "domain",
         "domain": [
          0,
          1
         ]
        }
       }
      },
      "text/html": [
       "<div>                            <div id=\"b01fa407-8a54-419e-af62-86323a92e101\" class=\"plotly-graph-div\" style=\"height:525px; width:100%;\"></div>            <script type=\"text/javascript\">                require([\"plotly\"], function(Plotly) {                    window.PLOTLYENV=window.PLOTLYENV || {};                                    if (document.getElementById(\"b01fa407-8a54-419e-af62-86323a92e101\")) {                    Plotly.newPlot(                        \"b01fa407-8a54-419e-af62-86323a92e101\",                        [{\"coloraxis\":\"coloraxis\",\"name\":\"0\",\"texttemplate\":\"%{z}\",\"x\":[\"Class\",\"User\",\"X0\",\"Y0\",\"Z0\"],\"y\":[\"Class\",\"User\",\"X0\",\"Y0\",\"Z0\"],\"z\":[[1.0,-0.029288608899671283,0.07550214489844875,0.07862276992572605,0.051958578367513816],[-0.029288608899671283,1.0,-0.008635224094409125,0.07140150982284017,0.20387487706322915],[0.07550214489844875,-0.008635224094409125,1.0,-0.29617571916188457,-0.2555833720897389],[0.07862276992572605,0.07140150982284017,-0.29617571916188457,1.0,0.58071398489442],[0.051958578367513816,0.20387487706322915,-0.2555833720897389,0.58071398489442,1.0]],\"type\":\"heatmap\",\"xaxis\":\"x\",\"yaxis\":\"y\",\"hovertemplate\":\"x: %{x}<br>y: %{y}<br>color: %{z}<extra></extra>\"}],                        {\"template\":{\"data\":{\"histogram2dcontour\":[{\"type\":\"histogram2dcontour\",\"colorbar\":{\"outlinewidth\":0,\"ticks\":\"\"},\"colorscale\":[[0.0,\"#0d0887\"],[0.1111111111111111,\"#46039f\"],[0.2222222222222222,\"#7201a8\"],[0.3333333333333333,\"#9c179e\"],[0.4444444444444444,\"#bd3786\"],[0.5555555555555556,\"#d8576b\"],[0.6666666666666666,\"#ed7953\"],[0.7777777777777778,\"#fb9f3a\"],[0.8888888888888888,\"#fdca26\"],[1.0,\"#f0f921\"]]}],\"choropleth\":[{\"type\":\"choropleth\",\"colorbar\":{\"outlinewidth\":0,\"ticks\":\"\"}}],\"histogram2d\":[{\"type\":\"histogram2d\",\"colorbar\":{\"outlinewidth\":0,\"ticks\":\"\"},\"colorscale\":[[0.0,\"#0d0887\"],[0.1111111111111111,\"#46039f\"],[0.2222222222222222,\"#7201a8\"],[0.3333333333333333,\"#9c179e\"],[0.4444444444444444,\"#bd3786\"],[0.5555555555555556,\"#d8576b\"],[0.6666666666666666,\"#ed7953\"],[0.7777777777777778,\"#fb9f3a\"],[0.8888888888888888,\"#fdca26\"],[1.0,\"#f0f921\"]]}],\"heatmap\":[{\"type\":\"heatmap\",\"colorbar\":{\"outlinewidth\":0,\"ticks\":\"\"},\"colorscale\":[[0.0,\"#0d0887\"],[0.1111111111111111,\"#46039f\"],[0.2222222222222222,\"#7201a8\"],[0.3333333333333333,\"#9c179e\"],[0.4444444444444444,\"#bd3786\"],[0.5555555555555556,\"#d8576b\"],[0.6666666666666666,\"#ed7953\"],[0.7777777777777778,\"#fb9f3a\"],[0.8888888888888888,\"#fdca26\"],[1.0,\"#f0f921\"]]}],\"heatmapgl\":[{\"type\":\"heatmapgl\",\"colorbar\":{\"outlinewidth\":0,\"ticks\":\"\"},\"colorscale\":[[0.0,\"#0d0887\"],[0.1111111111111111,\"#46039f\"],[0.2222222222222222,\"#7201a8\"],[0.3333333333333333,\"#9c179e\"],[0.4444444444444444,\"#bd3786\"],[0.5555555555555556,\"#d8576b\"],[0.6666666666666666,\"#ed7953\"],[0.7777777777777778,\"#fb9f3a\"],[0.8888888888888888,\"#fdca26\"],[1.0,\"#f0f921\"]]}],\"contourcarpet\":[{\"type\":\"contourcarpet\",\"colorbar\":{\"outlinewidth\":0,\"ticks\":\"\"}}],\"contour\":[{\"type\":\"contour\",\"colorbar\":{\"outlinewidth\":0,\"ticks\":\"\"},\"colorscale\":[[0.0,\"#0d0887\"],[0.1111111111111111,\"#46039f\"],[0.2222222222222222,\"#7201a8\"],[0.3333333333333333,\"#9c179e\"],[0.4444444444444444,\"#bd3786\"],[0.5555555555555556,\"#d8576b\"],[0.6666666666666666,\"#ed7953\"],[0.7777777777777778,\"#fb9f3a\"],[0.8888888888888888,\"#fdca26\"],[1.0,\"#f0f921\"]]}],\"surface\":[{\"type\":\"surface\",\"colorbar\":{\"outlinewidth\":0,\"ticks\":\"\"},\"colorscale\":[[0.0,\"#0d0887\"],[0.1111111111111111,\"#46039f\"],[0.2222222222222222,\"#7201a8\"],[0.3333333333333333,\"#9c179e\"],[0.4444444444444444,\"#bd3786\"],[0.5555555555555556,\"#d8576b\"],[0.6666666666666666,\"#ed7953\"],[0.7777777777777778,\"#fb9f3a\"],[0.8888888888888888,\"#fdca26\"],[1.0,\"#f0f921\"]]}],\"mesh3d\":[{\"type\":\"mesh3d\",\"colorbar\":{\"outlinewidth\":0,\"ticks\":\"\"}}],\"scatter\":[{\"fillpattern\":{\"fillmode\":\"overlay\",\"size\":10,\"solidity\":0.2},\"type\":\"scatter\"}],\"parcoords\":[{\"type\":\"parcoords\",\"line\":{\"colorbar\":{\"outlinewidth\":0,\"ticks\":\"\"}}}],\"scatterpolargl\":[{\"type\":\"scatterpolargl\",\"marker\":{\"colorbar\":{\"outlinewidth\":0,\"ticks\":\"\"}}}],\"bar\":[{\"error_x\":{\"color\":\"#2a3f5f\"},\"error_y\":{\"color\":\"#2a3f5f\"},\"marker\":{\"line\":{\"color\":\"#E5ECF6\",\"width\":0.5},\"pattern\":{\"fillmode\":\"overlay\",\"size\":10,\"solidity\":0.2}},\"type\":\"bar\"}],\"scattergeo\":[{\"type\":\"scattergeo\",\"marker\":{\"colorbar\":{\"outlinewidth\":0,\"ticks\":\"\"}}}],\"scatterpolar\":[{\"type\":\"scatterpolar\",\"marker\":{\"colorbar\":{\"outlinewidth\":0,\"ticks\":\"\"}}}],\"histogram\":[{\"marker\":{\"pattern\":{\"fillmode\":\"overlay\",\"size\":10,\"solidity\":0.2}},\"type\":\"histogram\"}],\"scattergl\":[{\"type\":\"scattergl\",\"marker\":{\"colorbar\":{\"outlinewidth\":0,\"ticks\":\"\"}}}],\"scatter3d\":[{\"type\":\"scatter3d\",\"line\":{\"colorbar\":{\"outlinewidth\":0,\"ticks\":\"\"}},\"marker\":{\"colorbar\":{\"outlinewidth\":0,\"ticks\":\"\"}}}],\"scattermapbox\":[{\"type\":\"scattermapbox\",\"marker\":{\"colorbar\":{\"outlinewidth\":0,\"ticks\":\"\"}}}],\"scatterternary\":[{\"type\":\"scatterternary\",\"marker\":{\"colorbar\":{\"outlinewidth\":0,\"ticks\":\"\"}}}],\"scattercarpet\":[{\"type\":\"scattercarpet\",\"marker\":{\"colorbar\":{\"outlinewidth\":0,\"ticks\":\"\"}}}],\"carpet\":[{\"aaxis\":{\"endlinecolor\":\"#2a3f5f\",\"gridcolor\":\"white\",\"linecolor\":\"white\",\"minorgridcolor\":\"white\",\"startlinecolor\":\"#2a3f5f\"},\"baxis\":{\"endlinecolor\":\"#2a3f5f\",\"gridcolor\":\"white\",\"linecolor\":\"white\",\"minorgridcolor\":\"white\",\"startlinecolor\":\"#2a3f5f\"},\"type\":\"carpet\"}],\"table\":[{\"cells\":{\"fill\":{\"color\":\"#EBF0F8\"},\"line\":{\"color\":\"white\"}},\"header\":{\"fill\":{\"color\":\"#C8D4E3\"},\"line\":{\"color\":\"white\"}},\"type\":\"table\"}],\"barpolar\":[{\"marker\":{\"line\":{\"color\":\"#E5ECF6\",\"width\":0.5},\"pattern\":{\"fillmode\":\"overlay\",\"size\":10,\"solidity\":0.2}},\"type\":\"barpolar\"}],\"pie\":[{\"automargin\":true,\"type\":\"pie\"}]},\"layout\":{\"autotypenumbers\":\"strict\",\"colorway\":[\"#636efa\",\"#EF553B\",\"#00cc96\",\"#ab63fa\",\"#FFA15A\",\"#19d3f3\",\"#FF6692\",\"#B6E880\",\"#FF97FF\",\"#FECB52\"],\"font\":{\"color\":\"#2a3f5f\"},\"hovermode\":\"closest\",\"hoverlabel\":{\"align\":\"left\"},\"paper_bgcolor\":\"white\",\"plot_bgcolor\":\"#E5ECF6\",\"polar\":{\"bgcolor\":\"#E5ECF6\",\"angularaxis\":{\"gridcolor\":\"white\",\"linecolor\":\"white\",\"ticks\":\"\"},\"radialaxis\":{\"gridcolor\":\"white\",\"linecolor\":\"white\",\"ticks\":\"\"}},\"ternary\":{\"bgcolor\":\"#E5ECF6\",\"aaxis\":{\"gridcolor\":\"white\",\"linecolor\":\"white\",\"ticks\":\"\"},\"baxis\":{\"gridcolor\":\"white\",\"linecolor\":\"white\",\"ticks\":\"\"},\"caxis\":{\"gridcolor\":\"white\",\"linecolor\":\"white\",\"ticks\":\"\"}},\"coloraxis\":{\"colorbar\":{\"outlinewidth\":0,\"ticks\":\"\"}},\"colorscale\":{\"sequential\":[[0.0,\"#0d0887\"],[0.1111111111111111,\"#46039f\"],[0.2222222222222222,\"#7201a8\"],[0.3333333333333333,\"#9c179e\"],[0.4444444444444444,\"#bd3786\"],[0.5555555555555556,\"#d8576b\"],[0.6666666666666666,\"#ed7953\"],[0.7777777777777778,\"#fb9f3a\"],[0.8888888888888888,\"#fdca26\"],[1.0,\"#f0f921\"]],\"sequentialminus\":[[0.0,\"#0d0887\"],[0.1111111111111111,\"#46039f\"],[0.2222222222222222,\"#7201a8\"],[0.3333333333333333,\"#9c179e\"],[0.4444444444444444,\"#bd3786\"],[0.5555555555555556,\"#d8576b\"],[0.6666666666666666,\"#ed7953\"],[0.7777777777777778,\"#fb9f3a\"],[0.8888888888888888,\"#fdca26\"],[1.0,\"#f0f921\"]],\"diverging\":[[0,\"#8e0152\"],[0.1,\"#c51b7d\"],[0.2,\"#de77ae\"],[0.3,\"#f1b6da\"],[0.4,\"#fde0ef\"],[0.5,\"#f7f7f7\"],[0.6,\"#e6f5d0\"],[0.7,\"#b8e186\"],[0.8,\"#7fbc41\"],[0.9,\"#4d9221\"],[1,\"#276419\"]]},\"xaxis\":{\"gridcolor\":\"white\",\"linecolor\":\"white\",\"ticks\":\"\",\"title\":{\"standoff\":15},\"zerolinecolor\":\"white\",\"automargin\":true,\"zerolinewidth\":2},\"yaxis\":{\"gridcolor\":\"white\",\"linecolor\":\"white\",\"ticks\":\"\",\"title\":{\"standoff\":15},\"zerolinecolor\":\"white\",\"automargin\":true,\"zerolinewidth\":2},\"scene\":{\"xaxis\":{\"backgroundcolor\":\"#E5ECF6\",\"gridcolor\":\"white\",\"linecolor\":\"white\",\"showbackground\":true,\"ticks\":\"\",\"zerolinecolor\":\"white\",\"gridwidth\":2},\"yaxis\":{\"backgroundcolor\":\"#E5ECF6\",\"gridcolor\":\"white\",\"linecolor\":\"white\",\"showbackground\":true,\"ticks\":\"\",\"zerolinecolor\":\"white\",\"gridwidth\":2},\"zaxis\":{\"backgroundcolor\":\"#E5ECF6\",\"gridcolor\":\"white\",\"linecolor\":\"white\",\"showbackground\":true,\"ticks\":\"\",\"zerolinecolor\":\"white\",\"gridwidth\":2}},\"shapedefaults\":{\"line\":{\"color\":\"#2a3f5f\"}},\"annotationdefaults\":{\"arrowcolor\":\"#2a3f5f\",\"arrowhead\":0,\"arrowwidth\":1},\"geo\":{\"bgcolor\":\"white\",\"landcolor\":\"#E5ECF6\",\"subunitcolor\":\"white\",\"showland\":true,\"showlakes\":true,\"lakecolor\":\"white\"},\"title\":{\"x\":0.05},\"mapbox\":{\"style\":\"light\"}}},\"xaxis\":{\"anchor\":\"y\",\"domain\":[0.0,1.0],\"scaleanchor\":\"y\",\"constrain\":\"domain\"},\"yaxis\":{\"anchor\":\"x\",\"domain\":[0.0,1.0],\"autorange\":\"reversed\",\"constrain\":\"domain\"},\"coloraxis\":{\"colorscale\":[[0.0,\"#0d0887\"],[0.1111111111111111,\"#46039f\"],[0.2222222222222222,\"#7201a8\"],[0.3333333333333333,\"#9c179e\"],[0.4444444444444444,\"#bd3786\"],[0.5555555555555556,\"#d8576b\"],[0.6666666666666666,\"#ed7953\"],[0.7777777777777778,\"#fb9f3a\"],[0.8888888888888888,\"#fdca26\"],[1.0,\"#f0f921\"]]},\"title\":{\"text\":\"Heatmap of Class & User & Coordinates-0\"}},                        {\"responsive\": true}                    ).then(function(){\n",
       "                            \n",
       "var gd = document.getElementById('b01fa407-8a54-419e-af62-86323a92e101');\n",
       "var x = new MutationObserver(function (mutations, observer) {{\n",
       "        var display = window.getComputedStyle(gd).display;\n",
       "        if (!display || display === 'none') {{\n",
       "            console.log([gd, 'removed!']);\n",
       "            Plotly.purge(gd);\n",
       "            observer.disconnect();\n",
       "        }}\n",
       "}});\n",
       "\n",
       "// Listen for the removal of the full notebook cells\n",
       "var notebookContainer = gd.closest('#notebook-container');\n",
       "if (notebookContainer) {{\n",
       "    x.observe(notebookContainer, {childList: true});\n",
       "}}\n",
       "\n",
       "// Listen for the clearing of the current output cell\n",
       "var outputEl = gd.closest('.output');\n",
       "if (outputEl) {{\n",
       "    x.observe(outputEl, {childList: true});\n",
       "}}\n",
       "\n",
       "                        })                };                });            </script>        </div>"
      ]
     },
     "metadata": {},
     "output_type": "display_data"
    }
   ],
   "source": [
    "import plotly.express as px\n",
    "fig = px.imshow(df[['Class','User','X0','Y0','Z0']].corr(),text_auto=True,title=\"Heatmap of Class & User & Coordinates-0\")\n",
    "fig.show()"
   ]
  },
  {
   "cell_type": "markdown",
   "id": "charged-freedom",
   "metadata": {},
   "source": [
    "## Classification "
   ]
  },
  {
   "cell_type": "markdown",
   "id": "compact-beauty",
   "metadata": {},
   "source": [
    "For classification part I choosed 3 methods. These are: <br>\n",
    "- Random Forest\n",
    "- Decision Tree\n",
    "- Gaussian Naive Bayes <br>\n",
    "\n",
    "I splitted data into X_train, X_test, y_train, y_test with train_test_split method. I choosed train size as %80 and test size as %20. <br> \n",
    "y --> Class column of data <br>\n",
    "X --> All columns without class column"
   ]
  },
  {
   "cell_type": "code",
   "execution_count": 23,
   "id": "adolescent-knitting",
   "metadata": {},
   "outputs": [],
   "source": [
    "y = df['Class']"
   ]
  },
  {
   "cell_type": "code",
   "execution_count": 24,
   "id": "broke-jackson",
   "metadata": {},
   "outputs": [],
   "source": [
    "df = df.drop(['Class'], axis=1)\n",
    "X = df"
   ]
  },
  {
   "cell_type": "code",
   "execution_count": 25,
   "id": "sustained-absence",
   "metadata": {},
   "outputs": [],
   "source": [
    "X_train, X_test, y_train, y_test = train_test_split(X, y, test_size=0.20, random_state=42)"
   ]
  },
  {
   "cell_type": "markdown",
   "id": "curious-composite",
   "metadata": {},
   "source": [
    "### 1) Random Forest"
   ]
  },
  {
   "cell_type": "code",
   "execution_count": 26,
   "id": "increasing-indicator",
   "metadata": {},
   "outputs": [],
   "source": [
    "from sklearn.ensemble import RandomForestClassifier\n",
    "rf = RandomForestClassifier(max_depth=2, random_state=0)\n",
    "rf.fit(X_train, y_train)\n",
    "predRF = rf.predict(X_test)"
   ]
  },
  {
   "cell_type": "markdown",
   "id": "automotive-function",
   "metadata": {},
   "source": [
    "### 2) Decision Tree Classifier"
   ]
  },
  {
   "cell_type": "code",
   "execution_count": 28,
   "id": "vital-zimbabwe",
   "metadata": {},
   "outputs": [],
   "source": [
    "from sklearn.tree import DecisionTreeClassifier\n",
    "dt = DecisionTreeClassifier()\n",
    "dt.fit(X_train,y_train)\n",
    "predDT = dt.predict(X_test)"
   ]
  },
  {
   "cell_type": "markdown",
   "id": "cathedral-capability",
   "metadata": {},
   "source": [
    "### 3) Gaussian Naive Bayes Classifier"
   ]
  },
  {
   "cell_type": "code",
   "execution_count": 30,
   "id": "urban-pressure",
   "metadata": {},
   "outputs": [],
   "source": [
    "from sklearn.naive_bayes import GaussianNB\n",
    "gnb = GaussianNB()\n",
    "gnb.fit(X_train, y_train)\n",
    "predGNB = gnb.predict(X_test)"
   ]
  },
  {
   "cell_type": "markdown",
   "id": "pharmaceutical-variable",
   "metadata": {},
   "source": [
    "## Results & Analysis"
   ]
  },
  {
   "cell_type": "markdown",
   "id": "graduate-hypothetical",
   "metadata": {},
   "source": [
    "After running the models, I represented results with table and graphs below."
   ]
  },
  {
   "cell_type": "code",
   "execution_count": 32,
   "id": "coordinated-thompson",
   "metadata": {},
   "outputs": [],
   "source": [
    "accRF = round(accuracy_score(y_test, predRF),2)\n",
    "accDT = round(accuracy_score(y_test, predDT),2)\n",
    "accGNB = round(accuracy_score(y_test, predGNB),2)"
   ]
  },
  {
   "cell_type": "markdown",
   "id": "facial-victorian",
   "metadata": {},
   "source": [
    "#### Accuracy of Models"
   ]
  },
  {
   "cell_type": "code",
   "execution_count": 33,
   "id": "burning-sentence",
   "metadata": {},
   "outputs": [],
   "source": [
    "acc_list = [accRF, accDT, accGNB]\n",
    "model_list = [\"Random Forest\", \"Decision Tree\", \"Gaussian Naive Bayes\"]"
   ]
  },
  {
   "cell_type": "code",
   "execution_count": 34,
   "id": "rough-peninsula",
   "metadata": {},
   "outputs": [
    {
     "data": {
      "application/vnd.plotly.v1+json": {
       "config": {
        "plotlyServerURL": "https://plot.ly"
       },
       "data": [
        {
         "cells": {
          "values": [
           [
            "Random Forest",
            "Decision Tree",
            "Gaussian Naive Bayes"
           ],
           [
            0.52,
            0.94,
            0.68
           ]
          ]
         },
         "header": {
          "values": [
           "Models",
           "Accuracy Scores"
          ]
         },
         "type": "table"
        }
       ],
       "layout": {
        "height": 400,
        "template": {
         "data": {
          "bar": [
           {
            "error_x": {
             "color": "#2a3f5f"
            },
            "error_y": {
             "color": "#2a3f5f"
            },
            "marker": {
             "line": {
              "color": "#E5ECF6",
              "width": 0.5
             },
             "pattern": {
              "fillmode": "overlay",
              "size": 10,
              "solidity": 0.2
             }
            },
            "type": "bar"
           }
          ],
          "barpolar": [
           {
            "marker": {
             "line": {
              "color": "#E5ECF6",
              "width": 0.5
             },
             "pattern": {
              "fillmode": "overlay",
              "size": 10,
              "solidity": 0.2
             }
            },
            "type": "barpolar"
           }
          ],
          "carpet": [
           {
            "aaxis": {
             "endlinecolor": "#2a3f5f",
             "gridcolor": "white",
             "linecolor": "white",
             "minorgridcolor": "white",
             "startlinecolor": "#2a3f5f"
            },
            "baxis": {
             "endlinecolor": "#2a3f5f",
             "gridcolor": "white",
             "linecolor": "white",
             "minorgridcolor": "white",
             "startlinecolor": "#2a3f5f"
            },
            "type": "carpet"
           }
          ],
          "choropleth": [
           {
            "colorbar": {
             "outlinewidth": 0,
             "ticks": ""
            },
            "type": "choropleth"
           }
          ],
          "contour": [
           {
            "colorbar": {
             "outlinewidth": 0,
             "ticks": ""
            },
            "colorscale": [
             [
              0,
              "#0d0887"
             ],
             [
              0.1111111111111111,
              "#46039f"
             ],
             [
              0.2222222222222222,
              "#7201a8"
             ],
             [
              0.3333333333333333,
              "#9c179e"
             ],
             [
              0.4444444444444444,
              "#bd3786"
             ],
             [
              0.5555555555555556,
              "#d8576b"
             ],
             [
              0.6666666666666666,
              "#ed7953"
             ],
             [
              0.7777777777777778,
              "#fb9f3a"
             ],
             [
              0.8888888888888888,
              "#fdca26"
             ],
             [
              1,
              "#f0f921"
             ]
            ],
            "type": "contour"
           }
          ],
          "contourcarpet": [
           {
            "colorbar": {
             "outlinewidth": 0,
             "ticks": ""
            },
            "type": "contourcarpet"
           }
          ],
          "heatmap": [
           {
            "colorbar": {
             "outlinewidth": 0,
             "ticks": ""
            },
            "colorscale": [
             [
              0,
              "#0d0887"
             ],
             [
              0.1111111111111111,
              "#46039f"
             ],
             [
              0.2222222222222222,
              "#7201a8"
             ],
             [
              0.3333333333333333,
              "#9c179e"
             ],
             [
              0.4444444444444444,
              "#bd3786"
             ],
             [
              0.5555555555555556,
              "#d8576b"
             ],
             [
              0.6666666666666666,
              "#ed7953"
             ],
             [
              0.7777777777777778,
              "#fb9f3a"
             ],
             [
              0.8888888888888888,
              "#fdca26"
             ],
             [
              1,
              "#f0f921"
             ]
            ],
            "type": "heatmap"
           }
          ],
          "heatmapgl": [
           {
            "colorbar": {
             "outlinewidth": 0,
             "ticks": ""
            },
            "colorscale": [
             [
              0,
              "#0d0887"
             ],
             [
              0.1111111111111111,
              "#46039f"
             ],
             [
              0.2222222222222222,
              "#7201a8"
             ],
             [
              0.3333333333333333,
              "#9c179e"
             ],
             [
              0.4444444444444444,
              "#bd3786"
             ],
             [
              0.5555555555555556,
              "#d8576b"
             ],
             [
              0.6666666666666666,
              "#ed7953"
             ],
             [
              0.7777777777777778,
              "#fb9f3a"
             ],
             [
              0.8888888888888888,
              "#fdca26"
             ],
             [
              1,
              "#f0f921"
             ]
            ],
            "type": "heatmapgl"
           }
          ],
          "histogram": [
           {
            "marker": {
             "pattern": {
              "fillmode": "overlay",
              "size": 10,
              "solidity": 0.2
             }
            },
            "type": "histogram"
           }
          ],
          "histogram2d": [
           {
            "colorbar": {
             "outlinewidth": 0,
             "ticks": ""
            },
            "colorscale": [
             [
              0,
              "#0d0887"
             ],
             [
              0.1111111111111111,
              "#46039f"
             ],
             [
              0.2222222222222222,
              "#7201a8"
             ],
             [
              0.3333333333333333,
              "#9c179e"
             ],
             [
              0.4444444444444444,
              "#bd3786"
             ],
             [
              0.5555555555555556,
              "#d8576b"
             ],
             [
              0.6666666666666666,
              "#ed7953"
             ],
             [
              0.7777777777777778,
              "#fb9f3a"
             ],
             [
              0.8888888888888888,
              "#fdca26"
             ],
             [
              1,
              "#f0f921"
             ]
            ],
            "type": "histogram2d"
           }
          ],
          "histogram2dcontour": [
           {
            "colorbar": {
             "outlinewidth": 0,
             "ticks": ""
            },
            "colorscale": [
             [
              0,
              "#0d0887"
             ],
             [
              0.1111111111111111,
              "#46039f"
             ],
             [
              0.2222222222222222,
              "#7201a8"
             ],
             [
              0.3333333333333333,
              "#9c179e"
             ],
             [
              0.4444444444444444,
              "#bd3786"
             ],
             [
              0.5555555555555556,
              "#d8576b"
             ],
             [
              0.6666666666666666,
              "#ed7953"
             ],
             [
              0.7777777777777778,
              "#fb9f3a"
             ],
             [
              0.8888888888888888,
              "#fdca26"
             ],
             [
              1,
              "#f0f921"
             ]
            ],
            "type": "histogram2dcontour"
           }
          ],
          "mesh3d": [
           {
            "colorbar": {
             "outlinewidth": 0,
             "ticks": ""
            },
            "type": "mesh3d"
           }
          ],
          "parcoords": [
           {
            "line": {
             "colorbar": {
              "outlinewidth": 0,
              "ticks": ""
             }
            },
            "type": "parcoords"
           }
          ],
          "pie": [
           {
            "automargin": true,
            "type": "pie"
           }
          ],
          "scatter": [
           {
            "fillpattern": {
             "fillmode": "overlay",
             "size": 10,
             "solidity": 0.2
            },
            "type": "scatter"
           }
          ],
          "scatter3d": [
           {
            "line": {
             "colorbar": {
              "outlinewidth": 0,
              "ticks": ""
             }
            },
            "marker": {
             "colorbar": {
              "outlinewidth": 0,
              "ticks": ""
             }
            },
            "type": "scatter3d"
           }
          ],
          "scattercarpet": [
           {
            "marker": {
             "colorbar": {
              "outlinewidth": 0,
              "ticks": ""
             }
            },
            "type": "scattercarpet"
           }
          ],
          "scattergeo": [
           {
            "marker": {
             "colorbar": {
              "outlinewidth": 0,
              "ticks": ""
             }
            },
            "type": "scattergeo"
           }
          ],
          "scattergl": [
           {
            "marker": {
             "colorbar": {
              "outlinewidth": 0,
              "ticks": ""
             }
            },
            "type": "scattergl"
           }
          ],
          "scattermapbox": [
           {
            "marker": {
             "colorbar": {
              "outlinewidth": 0,
              "ticks": ""
             }
            },
            "type": "scattermapbox"
           }
          ],
          "scatterpolar": [
           {
            "marker": {
             "colorbar": {
              "outlinewidth": 0,
              "ticks": ""
             }
            },
            "type": "scatterpolar"
           }
          ],
          "scatterpolargl": [
           {
            "marker": {
             "colorbar": {
              "outlinewidth": 0,
              "ticks": ""
             }
            },
            "type": "scatterpolargl"
           }
          ],
          "scatterternary": [
           {
            "marker": {
             "colorbar": {
              "outlinewidth": 0,
              "ticks": ""
             }
            },
            "type": "scatterternary"
           }
          ],
          "surface": [
           {
            "colorbar": {
             "outlinewidth": 0,
             "ticks": ""
            },
            "colorscale": [
             [
              0,
              "#0d0887"
             ],
             [
              0.1111111111111111,
              "#46039f"
             ],
             [
              0.2222222222222222,
              "#7201a8"
             ],
             [
              0.3333333333333333,
              "#9c179e"
             ],
             [
              0.4444444444444444,
              "#bd3786"
             ],
             [
              0.5555555555555556,
              "#d8576b"
             ],
             [
              0.6666666666666666,
              "#ed7953"
             ],
             [
              0.7777777777777778,
              "#fb9f3a"
             ],
             [
              0.8888888888888888,
              "#fdca26"
             ],
             [
              1,
              "#f0f921"
             ]
            ],
            "type": "surface"
           }
          ],
          "table": [
           {
            "cells": {
             "fill": {
              "color": "#EBF0F8"
             },
             "line": {
              "color": "white"
             }
            },
            "header": {
             "fill": {
              "color": "#C8D4E3"
             },
             "line": {
              "color": "white"
             }
            },
            "type": "table"
           }
          ]
         },
         "layout": {
          "annotationdefaults": {
           "arrowcolor": "#2a3f5f",
           "arrowhead": 0,
           "arrowwidth": 1
          },
          "autotypenumbers": "strict",
          "coloraxis": {
           "colorbar": {
            "outlinewidth": 0,
            "ticks": ""
           }
          },
          "colorscale": {
           "diverging": [
            [
             0,
             "#8e0152"
            ],
            [
             0.1,
             "#c51b7d"
            ],
            [
             0.2,
             "#de77ae"
            ],
            [
             0.3,
             "#f1b6da"
            ],
            [
             0.4,
             "#fde0ef"
            ],
            [
             0.5,
             "#f7f7f7"
            ],
            [
             0.6,
             "#e6f5d0"
            ],
            [
             0.7,
             "#b8e186"
            ],
            [
             0.8,
             "#7fbc41"
            ],
            [
             0.9,
             "#4d9221"
            ],
            [
             1,
             "#276419"
            ]
           ],
           "sequential": [
            [
             0,
             "#0d0887"
            ],
            [
             0.1111111111111111,
             "#46039f"
            ],
            [
             0.2222222222222222,
             "#7201a8"
            ],
            [
             0.3333333333333333,
             "#9c179e"
            ],
            [
             0.4444444444444444,
             "#bd3786"
            ],
            [
             0.5555555555555556,
             "#d8576b"
            ],
            [
             0.6666666666666666,
             "#ed7953"
            ],
            [
             0.7777777777777778,
             "#fb9f3a"
            ],
            [
             0.8888888888888888,
             "#fdca26"
            ],
            [
             1,
             "#f0f921"
            ]
           ],
           "sequentialminus": [
            [
             0,
             "#0d0887"
            ],
            [
             0.1111111111111111,
             "#46039f"
            ],
            [
             0.2222222222222222,
             "#7201a8"
            ],
            [
             0.3333333333333333,
             "#9c179e"
            ],
            [
             0.4444444444444444,
             "#bd3786"
            ],
            [
             0.5555555555555556,
             "#d8576b"
            ],
            [
             0.6666666666666666,
             "#ed7953"
            ],
            [
             0.7777777777777778,
             "#fb9f3a"
            ],
            [
             0.8888888888888888,
             "#fdca26"
            ],
            [
             1,
             "#f0f921"
            ]
           ]
          },
          "colorway": [
           "#636efa",
           "#EF553B",
           "#00cc96",
           "#ab63fa",
           "#FFA15A",
           "#19d3f3",
           "#FF6692",
           "#B6E880",
           "#FF97FF",
           "#FECB52"
          ],
          "font": {
           "color": "#2a3f5f"
          },
          "geo": {
           "bgcolor": "white",
           "lakecolor": "white",
           "landcolor": "#E5ECF6",
           "showlakes": true,
           "showland": true,
           "subunitcolor": "white"
          },
          "hoverlabel": {
           "align": "left"
          },
          "hovermode": "closest",
          "mapbox": {
           "style": "light"
          },
          "paper_bgcolor": "white",
          "plot_bgcolor": "#E5ECF6",
          "polar": {
           "angularaxis": {
            "gridcolor": "white",
            "linecolor": "white",
            "ticks": ""
           },
           "bgcolor": "#E5ECF6",
           "radialaxis": {
            "gridcolor": "white",
            "linecolor": "white",
            "ticks": ""
           }
          },
          "scene": {
           "xaxis": {
            "backgroundcolor": "#E5ECF6",
            "gridcolor": "white",
            "gridwidth": 2,
            "linecolor": "white",
            "showbackground": true,
            "ticks": "",
            "zerolinecolor": "white"
           },
           "yaxis": {
            "backgroundcolor": "#E5ECF6",
            "gridcolor": "white",
            "gridwidth": 2,
            "linecolor": "white",
            "showbackground": true,
            "ticks": "",
            "zerolinecolor": "white"
           },
           "zaxis": {
            "backgroundcolor": "#E5ECF6",
            "gridcolor": "white",
            "gridwidth": 2,
            "linecolor": "white",
            "showbackground": true,
            "ticks": "",
            "zerolinecolor": "white"
           }
          },
          "shapedefaults": {
           "line": {
            "color": "#2a3f5f"
           }
          },
          "ternary": {
           "aaxis": {
            "gridcolor": "white",
            "linecolor": "white",
            "ticks": ""
           },
           "baxis": {
            "gridcolor": "white",
            "linecolor": "white",
            "ticks": ""
           },
           "bgcolor": "#E5ECF6",
           "caxis": {
            "gridcolor": "white",
            "linecolor": "white",
            "ticks": ""
           }
          },
          "title": {
           "x": 0.05
          },
          "xaxis": {
           "automargin": true,
           "gridcolor": "white",
           "linecolor": "white",
           "ticks": "",
           "title": {
            "standoff": 15
           },
           "zerolinecolor": "white",
           "zerolinewidth": 2
          },
          "yaxis": {
           "automargin": true,
           "gridcolor": "white",
           "linecolor": "white",
           "ticks": "",
           "title": {
            "standoff": 15
           },
           "zerolinecolor": "white",
           "zerolinewidth": 2
          }
         }
        },
        "width": 900
       }
      },
      "text/html": [
       "<div>                            <div id=\"3cce869b-96a0-4d88-b386-28f6151bfc61\" class=\"plotly-graph-div\" style=\"height:400px; width:900px;\"></div>            <script type=\"text/javascript\">                require([\"plotly\"], function(Plotly) {                    window.PLOTLYENV=window.PLOTLYENV || {};                                    if (document.getElementById(\"3cce869b-96a0-4d88-b386-28f6151bfc61\")) {                    Plotly.newPlot(                        \"3cce869b-96a0-4d88-b386-28f6151bfc61\",                        [{\"cells\":{\"values\":[[\"Random Forest\",\"Decision Tree\",\"Gaussian Naive Bayes\"],[0.52,0.94,0.68]]},\"header\":{\"values\":[\"Models\",\"Accuracy Scores\"]},\"type\":\"table\"}],                        {\"template\":{\"data\":{\"histogram2dcontour\":[{\"type\":\"histogram2dcontour\",\"colorbar\":{\"outlinewidth\":0,\"ticks\":\"\"},\"colorscale\":[[0.0,\"#0d0887\"],[0.1111111111111111,\"#46039f\"],[0.2222222222222222,\"#7201a8\"],[0.3333333333333333,\"#9c179e\"],[0.4444444444444444,\"#bd3786\"],[0.5555555555555556,\"#d8576b\"],[0.6666666666666666,\"#ed7953\"],[0.7777777777777778,\"#fb9f3a\"],[0.8888888888888888,\"#fdca26\"],[1.0,\"#f0f921\"]]}],\"choropleth\":[{\"type\":\"choropleth\",\"colorbar\":{\"outlinewidth\":0,\"ticks\":\"\"}}],\"histogram2d\":[{\"type\":\"histogram2d\",\"colorbar\":{\"outlinewidth\":0,\"ticks\":\"\"},\"colorscale\":[[0.0,\"#0d0887\"],[0.1111111111111111,\"#46039f\"],[0.2222222222222222,\"#7201a8\"],[0.3333333333333333,\"#9c179e\"],[0.4444444444444444,\"#bd3786\"],[0.5555555555555556,\"#d8576b\"],[0.6666666666666666,\"#ed7953\"],[0.7777777777777778,\"#fb9f3a\"],[0.8888888888888888,\"#fdca26\"],[1.0,\"#f0f921\"]]}],\"heatmap\":[{\"type\":\"heatmap\",\"colorbar\":{\"outlinewidth\":0,\"ticks\":\"\"},\"colorscale\":[[0.0,\"#0d0887\"],[0.1111111111111111,\"#46039f\"],[0.2222222222222222,\"#7201a8\"],[0.3333333333333333,\"#9c179e\"],[0.4444444444444444,\"#bd3786\"],[0.5555555555555556,\"#d8576b\"],[0.6666666666666666,\"#ed7953\"],[0.7777777777777778,\"#fb9f3a\"],[0.8888888888888888,\"#fdca26\"],[1.0,\"#f0f921\"]]}],\"heatmapgl\":[{\"type\":\"heatmapgl\",\"colorbar\":{\"outlinewidth\":0,\"ticks\":\"\"},\"colorscale\":[[0.0,\"#0d0887\"],[0.1111111111111111,\"#46039f\"],[0.2222222222222222,\"#7201a8\"],[0.3333333333333333,\"#9c179e\"],[0.4444444444444444,\"#bd3786\"],[0.5555555555555556,\"#d8576b\"],[0.6666666666666666,\"#ed7953\"],[0.7777777777777778,\"#fb9f3a\"],[0.8888888888888888,\"#fdca26\"],[1.0,\"#f0f921\"]]}],\"contourcarpet\":[{\"type\":\"contourcarpet\",\"colorbar\":{\"outlinewidth\":0,\"ticks\":\"\"}}],\"contour\":[{\"type\":\"contour\",\"colorbar\":{\"outlinewidth\":0,\"ticks\":\"\"},\"colorscale\":[[0.0,\"#0d0887\"],[0.1111111111111111,\"#46039f\"],[0.2222222222222222,\"#7201a8\"],[0.3333333333333333,\"#9c179e\"],[0.4444444444444444,\"#bd3786\"],[0.5555555555555556,\"#d8576b\"],[0.6666666666666666,\"#ed7953\"],[0.7777777777777778,\"#fb9f3a\"],[0.8888888888888888,\"#fdca26\"],[1.0,\"#f0f921\"]]}],\"surface\":[{\"type\":\"surface\",\"colorbar\":{\"outlinewidth\":0,\"ticks\":\"\"},\"colorscale\":[[0.0,\"#0d0887\"],[0.1111111111111111,\"#46039f\"],[0.2222222222222222,\"#7201a8\"],[0.3333333333333333,\"#9c179e\"],[0.4444444444444444,\"#bd3786\"],[0.5555555555555556,\"#d8576b\"],[0.6666666666666666,\"#ed7953\"],[0.7777777777777778,\"#fb9f3a\"],[0.8888888888888888,\"#fdca26\"],[1.0,\"#f0f921\"]]}],\"mesh3d\":[{\"type\":\"mesh3d\",\"colorbar\":{\"outlinewidth\":0,\"ticks\":\"\"}}],\"scatter\":[{\"fillpattern\":{\"fillmode\":\"overlay\",\"size\":10,\"solidity\":0.2},\"type\":\"scatter\"}],\"parcoords\":[{\"type\":\"parcoords\",\"line\":{\"colorbar\":{\"outlinewidth\":0,\"ticks\":\"\"}}}],\"scatterpolargl\":[{\"type\":\"scatterpolargl\",\"marker\":{\"colorbar\":{\"outlinewidth\":0,\"ticks\":\"\"}}}],\"bar\":[{\"error_x\":{\"color\":\"#2a3f5f\"},\"error_y\":{\"color\":\"#2a3f5f\"},\"marker\":{\"line\":{\"color\":\"#E5ECF6\",\"width\":0.5},\"pattern\":{\"fillmode\":\"overlay\",\"size\":10,\"solidity\":0.2}},\"type\":\"bar\"}],\"scattergeo\":[{\"type\":\"scattergeo\",\"marker\":{\"colorbar\":{\"outlinewidth\":0,\"ticks\":\"\"}}}],\"scatterpolar\":[{\"type\":\"scatterpolar\",\"marker\":{\"colorbar\":{\"outlinewidth\":0,\"ticks\":\"\"}}}],\"histogram\":[{\"marker\":{\"pattern\":{\"fillmode\":\"overlay\",\"size\":10,\"solidity\":0.2}},\"type\":\"histogram\"}],\"scattergl\":[{\"type\":\"scattergl\",\"marker\":{\"colorbar\":{\"outlinewidth\":0,\"ticks\":\"\"}}}],\"scatter3d\":[{\"type\":\"scatter3d\",\"line\":{\"colorbar\":{\"outlinewidth\":0,\"ticks\":\"\"}},\"marker\":{\"colorbar\":{\"outlinewidth\":0,\"ticks\":\"\"}}}],\"scattermapbox\":[{\"type\":\"scattermapbox\",\"marker\":{\"colorbar\":{\"outlinewidth\":0,\"ticks\":\"\"}}}],\"scatterternary\":[{\"type\":\"scatterternary\",\"marker\":{\"colorbar\":{\"outlinewidth\":0,\"ticks\":\"\"}}}],\"scattercarpet\":[{\"type\":\"scattercarpet\",\"marker\":{\"colorbar\":{\"outlinewidth\":0,\"ticks\":\"\"}}}],\"carpet\":[{\"aaxis\":{\"endlinecolor\":\"#2a3f5f\",\"gridcolor\":\"white\",\"linecolor\":\"white\",\"minorgridcolor\":\"white\",\"startlinecolor\":\"#2a3f5f\"},\"baxis\":{\"endlinecolor\":\"#2a3f5f\",\"gridcolor\":\"white\",\"linecolor\":\"white\",\"minorgridcolor\":\"white\",\"startlinecolor\":\"#2a3f5f\"},\"type\":\"carpet\"}],\"table\":[{\"cells\":{\"fill\":{\"color\":\"#EBF0F8\"},\"line\":{\"color\":\"white\"}},\"header\":{\"fill\":{\"color\":\"#C8D4E3\"},\"line\":{\"color\":\"white\"}},\"type\":\"table\"}],\"barpolar\":[{\"marker\":{\"line\":{\"color\":\"#E5ECF6\",\"width\":0.5},\"pattern\":{\"fillmode\":\"overlay\",\"size\":10,\"solidity\":0.2}},\"type\":\"barpolar\"}],\"pie\":[{\"automargin\":true,\"type\":\"pie\"}]},\"layout\":{\"autotypenumbers\":\"strict\",\"colorway\":[\"#636efa\",\"#EF553B\",\"#00cc96\",\"#ab63fa\",\"#FFA15A\",\"#19d3f3\",\"#FF6692\",\"#B6E880\",\"#FF97FF\",\"#FECB52\"],\"font\":{\"color\":\"#2a3f5f\"},\"hovermode\":\"closest\",\"hoverlabel\":{\"align\":\"left\"},\"paper_bgcolor\":\"white\",\"plot_bgcolor\":\"#E5ECF6\",\"polar\":{\"bgcolor\":\"#E5ECF6\",\"angularaxis\":{\"gridcolor\":\"white\",\"linecolor\":\"white\",\"ticks\":\"\"},\"radialaxis\":{\"gridcolor\":\"white\",\"linecolor\":\"white\",\"ticks\":\"\"}},\"ternary\":{\"bgcolor\":\"#E5ECF6\",\"aaxis\":{\"gridcolor\":\"white\",\"linecolor\":\"white\",\"ticks\":\"\"},\"baxis\":{\"gridcolor\":\"white\",\"linecolor\":\"white\",\"ticks\":\"\"},\"caxis\":{\"gridcolor\":\"white\",\"linecolor\":\"white\",\"ticks\":\"\"}},\"coloraxis\":{\"colorbar\":{\"outlinewidth\":0,\"ticks\":\"\"}},\"colorscale\":{\"sequential\":[[0.0,\"#0d0887\"],[0.1111111111111111,\"#46039f\"],[0.2222222222222222,\"#7201a8\"],[0.3333333333333333,\"#9c179e\"],[0.4444444444444444,\"#bd3786\"],[0.5555555555555556,\"#d8576b\"],[0.6666666666666666,\"#ed7953\"],[0.7777777777777778,\"#fb9f3a\"],[0.8888888888888888,\"#fdca26\"],[1.0,\"#f0f921\"]],\"sequentialminus\":[[0.0,\"#0d0887\"],[0.1111111111111111,\"#46039f\"],[0.2222222222222222,\"#7201a8\"],[0.3333333333333333,\"#9c179e\"],[0.4444444444444444,\"#bd3786\"],[0.5555555555555556,\"#d8576b\"],[0.6666666666666666,\"#ed7953\"],[0.7777777777777778,\"#fb9f3a\"],[0.8888888888888888,\"#fdca26\"],[1.0,\"#f0f921\"]],\"diverging\":[[0,\"#8e0152\"],[0.1,\"#c51b7d\"],[0.2,\"#de77ae\"],[0.3,\"#f1b6da\"],[0.4,\"#fde0ef\"],[0.5,\"#f7f7f7\"],[0.6,\"#e6f5d0\"],[0.7,\"#b8e186\"],[0.8,\"#7fbc41\"],[0.9,\"#4d9221\"],[1,\"#276419\"]]},\"xaxis\":{\"gridcolor\":\"white\",\"linecolor\":\"white\",\"ticks\":\"\",\"title\":{\"standoff\":15},\"zerolinecolor\":\"white\",\"automargin\":true,\"zerolinewidth\":2},\"yaxis\":{\"gridcolor\":\"white\",\"linecolor\":\"white\",\"ticks\":\"\",\"title\":{\"standoff\":15},\"zerolinecolor\":\"white\",\"automargin\":true,\"zerolinewidth\":2},\"scene\":{\"xaxis\":{\"backgroundcolor\":\"#E5ECF6\",\"gridcolor\":\"white\",\"linecolor\":\"white\",\"showbackground\":true,\"ticks\":\"\",\"zerolinecolor\":\"white\",\"gridwidth\":2},\"yaxis\":{\"backgroundcolor\":\"#E5ECF6\",\"gridcolor\":\"white\",\"linecolor\":\"white\",\"showbackground\":true,\"ticks\":\"\",\"zerolinecolor\":\"white\",\"gridwidth\":2},\"zaxis\":{\"backgroundcolor\":\"#E5ECF6\",\"gridcolor\":\"white\",\"linecolor\":\"white\",\"showbackground\":true,\"ticks\":\"\",\"zerolinecolor\":\"white\",\"gridwidth\":2}},\"shapedefaults\":{\"line\":{\"color\":\"#2a3f5f\"}},\"annotationdefaults\":{\"arrowcolor\":\"#2a3f5f\",\"arrowhead\":0,\"arrowwidth\":1},\"geo\":{\"bgcolor\":\"white\",\"landcolor\":\"#E5ECF6\",\"subunitcolor\":\"white\",\"showland\":true,\"showlakes\":true,\"lakecolor\":\"white\"},\"title\":{\"x\":0.05},\"mapbox\":{\"style\":\"light\"}}},\"width\":900,\"height\":400},                        {\"responsive\": true}                    ).then(function(){\n",
       "                            \n",
       "var gd = document.getElementById('3cce869b-96a0-4d88-b386-28f6151bfc61');\n",
       "var x = new MutationObserver(function (mutations, observer) {{\n",
       "        var display = window.getComputedStyle(gd).display;\n",
       "        if (!display || display === 'none') {{\n",
       "            console.log([gd, 'removed!']);\n",
       "            Plotly.purge(gd);\n",
       "            observer.disconnect();\n",
       "        }}\n",
       "}});\n",
       "\n",
       "// Listen for the removal of the full notebook cells\n",
       "var notebookContainer = gd.closest('#notebook-container');\n",
       "if (notebookContainer) {{\n",
       "    x.observe(notebookContainer, {childList: true});\n",
       "}}\n",
       "\n",
       "// Listen for the clearing of the current output cell\n",
       "var outputEl = gd.closest('.output');\n",
       "if (outputEl) {{\n",
       "    x.observe(outputEl, {childList: true});\n",
       "}}\n",
       "\n",
       "                        })                };                });            </script>        </div>"
      ]
     },
     "metadata": {},
     "output_type": "display_data"
    }
   ],
   "source": [
    "fig = go.Figure(data=[go.Table(header=dict(values=['Models', 'Accuracy Scores']),cells=dict(values=[model_list,acc_list]))])\n",
    "fig.update_layout(width=900, height=400)\n",
    "fig.show()"
   ]
  },
  {
   "cell_type": "markdown",
   "id": "cellular-filing",
   "metadata": {},
   "source": [
    "#### Classification Report and Confusion Matrix of Models"
   ]
  },
  {
   "cell_type": "code",
   "execution_count": 35,
   "id": "stretch-ambassador",
   "metadata": {},
   "outputs": [],
   "source": [
    "target_names = ['Class 1', 'Class 2', 'Class 3', 'Class 4', 'Class 5']"
   ]
  },
  {
   "cell_type": "markdown",
   "id": "extended-assault",
   "metadata": {},
   "source": [
    "##### Random Forest "
   ]
  },
  {
   "cell_type": "code",
   "execution_count": 36,
   "id": "serial-breakdown",
   "metadata": {
    "scrolled": true
   },
   "outputs": [
    {
     "name": "stdout",
     "output_type": "stream",
     "text": [
      "              precision    recall  f1-score   support\n",
      "\n",
      "     Class 1       0.56      0.88      0.68      3177\n",
      "     Class 2       0.55      0.83      0.66      2927\n",
      "     Class 3       0.44      0.35      0.39      3202\n",
      "     Class 4       0.67      0.05      0.09      2971\n",
      "     Class 5       0.49      0.51      0.50      3109\n",
      "\n",
      "    accuracy                           0.52     15386\n",
      "   macro avg       0.54      0.52      0.47     15386\n",
      "weighted avg       0.54      0.52      0.47     15386\n",
      "\n"
     ]
    }
   ],
   "source": [
    "print(classification_report(y_test, predRF, target_names=target_names))"
   ]
  },
  {
   "cell_type": "code",
   "execution_count": 37,
   "id": "private-writing",
   "metadata": {},
   "outputs": [
    {
     "data": {
      "image/png": "[encoded data removed]",
      "text/plain": [
       "<Figure size 432x288 with 2 Axes>"
      ]
     },
     "metadata": {
      "needs_background": "light"
     },
     "output_type": "display_data"
    }
   ],
   "source": [
    "cmRF = confusion_matrix(y_test, predRF, labels=rf.classes_)\n",
    "disp = ConfusionMatrixDisplay(confusion_matrix=cmRF,display_labels=rf.classes_)\n",
    "disp.plot()\n",
    "plt.show()"
   ]
  },
  {
   "cell_type": "markdown",
   "id": "mechanical-header",
   "metadata": {},
   "source": [
    "##### Decision Tree"
   ]
  },
  {
   "cell_type": "code",
   "execution_count": 38,
   "id": "fixed-hawaii",
   "metadata": {
    "scrolled": true
   },
   "outputs": [
    {
     "name": "stdout",
     "output_type": "stream",
     "text": [
      "              precision    recall  f1-score   support\n",
      "\n",
      "     Class 1       0.98      0.99      0.98      3177\n",
      "     Class 2       0.93      0.92      0.92      2927\n",
      "     Class 3       0.93      0.93      0.93      3202\n",
      "     Class 4       0.90      0.91      0.91      2971\n",
      "     Class 5       0.93      0.92      0.93      3109\n",
      "\n",
      "    accuracy                           0.94     15386\n",
      "   macro avg       0.94      0.94      0.94     15386\n",
      "weighted avg       0.94      0.94      0.94     15386\n",
      "\n"
     ]
    }
   ],
   "source": [
    "print(classification_report(y_test, predDT, target_names=target_names))"
   ]
  },
  {
   "cell_type": "code",
   "execution_count": 39,
   "id": "herbal-restriction",
   "metadata": {},
   "outputs": [
    {
     "data": {
      "image/png": "[encoded data removed]",
      "text/plain": [
       "<Figure size 432x288 with 2 Axes>"
      ]
     },
     "metadata": {
      "needs_background": "light"
     },
     "output_type": "display_data"
    }
   ],
   "source": [
    "cmDT = confusion_matrix(y_test, predDT, labels=dt.classes_)\n",
    "disp = ConfusionMatrixDisplay(confusion_matrix=cmDT,display_labels=dt.classes_)\n",
    "disp.plot()\n",
    "plt.show()"
   ]
  },
  {
   "cell_type": "markdown",
   "id": "metropolitan-assault",
   "metadata": {},
   "source": [
    "##### Gaussian Naive Bayes"
   ]
  },
  {
   "cell_type": "code",
   "execution_count": 40,
   "id": "matched-bikini",
   "metadata": {},
   "outputs": [
    {
     "name": "stdout",
     "output_type": "stream",
     "text": [
      "              precision    recall  f1-score   support\n",
      "\n",
      "     Class 1       0.87      0.93      0.90      3177\n",
      "     Class 2       0.59      0.77      0.67      2927\n",
      "     Class 3       0.62      0.69      0.65      3202\n",
      "     Class 4       0.55      0.32      0.41      2971\n",
      "     Class 5       0.72      0.65      0.68      3109\n",
      "\n",
      "    accuracy                           0.68     15386\n",
      "   macro avg       0.67      0.67      0.66     15386\n",
      "weighted avg       0.67      0.68      0.66     15386\n",
      "\n"
     ]
    }
   ],
   "source": [
    "print(classification_report(y_test, predGNB, target_names=target_names))"
   ]
  },
  {
   "cell_type": "code",
   "execution_count": 41,
   "id": "senior-parks",
   "metadata": {},
   "outputs": [
    {
     "data": {
      "image/png": "[encoded data removed]",
      "text/plain": [
       "<Figure size 432x288 with 2 Axes>"
      ]
     },
     "metadata": {
      "needs_background": "light"
     },
     "output_type": "display_data"
    }
   ],
   "source": [
    "cmGNB = confusion_matrix(y_test, predGNB, labels=gnb.classes_)\n",
    "disp = ConfusionMatrixDisplay(confusion_matrix=cmGNB,display_labels=gnb.classes_)\n",
    "disp.plot()\n",
    "plt.show()"
   ]
  },
  {
   "cell_type": "markdown",
   "id": "disabled-candy",
   "metadata": {},
   "source": [
    "### Comparing Model Results"
   ]
  },
  {
   "cell_type": "markdown",
   "id": "living-photography",
   "metadata": {},
   "source": [
    "When we look at the graphs below, we can comment on success of models, and we can analize success class by class."
   ]
  },
  {
   "cell_type": "code",
   "execution_count": 42,
   "id": "german-thread",
   "metadata": {},
   "outputs": [],
   "source": [
    "reportRF = classification_report(y_test, predRF, output_dict=True)\n",
    "reportDT = classification_report(y_test, predDT, output_dict=True)\n",
    "reportGNB = classification_report(y_test, predGNB, output_dict=True)"
   ]
  },
  {
   "cell_type": "markdown",
   "id": "impaired-radio",
   "metadata": {},
   "source": [
    "Decision Tree has a grand advantage against other models. It gives us 0.94 accuracy which is very successful.<br>\n",
    "On the other hand, Gaussian Naive Bayes is better than Random Forest but result is mediocre."
   ]
  },
  {
   "cell_type": "code",
   "execution_count": 43,
   "id": "compound-mississippi",
   "metadata": {},
   "outputs": [
    {
     "data": {
      "image/png": "[encoded data removed]",
      "text/plain": [
       "<Figure size 720x360 with 1 Axes>"
      ]
     },
     "metadata": {
      "needs_background": "light"
     },
     "output_type": "display_data"
    }
   ],
   "source": [
    "fig = plt.figure(figsize = (10, 5))\n",
    "plt.bar(model_list, acc_list, color ='maroon',width = 0.5, alpha=0.6)\n",
    "plt.xlabel(\"Model\")\n",
    "plt.ylabel(\"Accuracy\")\n",
    "plt.title(\"Success of Model Results\")\n",
    "plt.show()"
   ]
  },
  {
   "cell_type": "markdown",
   "id": "collect-burns",
   "metadata": {},
   "source": [
    "I printed some graphs which are show precision, recall and F1-score of models for each class in the data. <br>\n",
    "- Class 1\n",
    "- Class 2\n",
    "- Class 3\n",
    "- Class 4\n",
    "- Class 5"
   ]
  },
  {
   "cell_type": "code",
   "execution_count": 44,
   "id": "naval-theory",
   "metadata": {},
   "outputs": [],
   "source": [
    "class1_data = [[reportRF['1']['precision'], reportRF['1']['recall'], reportRF['1']['f1-score']],[reportDT['1']['precision'], reportDT['1']['recall'], reportDT['1']['f1-score']],[reportGNB['1']['precision'], reportGNB['1']['recall'], reportGNB['1']['f1-score']]]\n",
    "class2_data = [[reportRF['2']['precision'], reportRF['2']['recall'], reportRF['2']['f1-score']],[reportDT['2']['precision'], reportDT['2']['recall'], reportDT['2']['f1-score']],[reportGNB['2']['precision'], reportGNB['2']['recall'], reportGNB['2']['f1-score']]]\n",
    "class3_data = [[reportRF['3']['precision'], reportRF['3']['recall'], reportRF['3']['f1-score']],[reportDT['3']['precision'], reportDT['3']['recall'], reportDT['3']['f1-score']],[reportGNB['3']['precision'], reportGNB['3']['recall'], reportGNB['3']['f1-score']]]\n",
    "class4_data = [[reportRF['4']['precision'], reportRF['4']['recall'], reportRF['4']['f1-score']],[reportDT['4']['precision'], reportDT['4']['recall'], reportDT['4']['f1-score']],[reportGNB['4']['precision'], reportGNB['4']['recall'], reportGNB['4']['f1-score']]]\n",
    "class5_data = [[reportRF['5']['precision'], reportRF['5']['recall'], reportRF['5']['f1-score']],[reportDT['5']['precision'], reportDT['5']['recall'], reportDT['5']['f1-score']],[reportGNB['5']['precision'], reportGNB['5']['recall'], reportGNB['5']['f1-score']]]\n",
    "index = ['Precision','Recall','F1-score']"
   ]
  },
  {
   "cell_type": "code",
   "execution_count": 45,
   "id": "prescribed-adapter",
   "metadata": {},
   "outputs": [],
   "source": [
    "class1_df = pd.DataFrame(class1_data, columns = ['RF', 'DT', 'GNB'], index=index)\n",
    "class2_df = pd.DataFrame(class2_data, columns = ['RF', 'DT', 'GNB'], index=index)\n",
    "class3_df = pd.DataFrame(class3_data, columns = ['RF', 'DT', 'GNB'], index=index)\n",
    "class4_df = pd.DataFrame(class4_data, columns = ['RF', 'DT', 'GNB'], index=index)\n",
    "class5_df = pd.DataFrame(class5_data, columns = ['RF', 'DT', 'GNB'], index=index)"
   ]
  },
  {
   "cell_type": "code",
   "execution_count": 46,
   "id": "accomplished-detective",
   "metadata": {},
   "outputs": [
    {
     "data": {
      "text/plain": [
       "Text(0.5, 1.0, 'Class 1')"
      ]
     },
     "execution_count": 46,
     "metadata": {},
     "output_type": "execute_result"
    },
    {
     "data": {
      "image/png": "[encoded data removed]",
      "text/plain": [
       "<Figure size 432x288 with 1 Axes>"
      ]
     },
     "metadata": {
      "needs_background": "light"
     },
     "output_type": "display_data"
    }
   ],
   "source": [
    "class1_df.plot.barh(color={\"RF\": \"forestgreen\", \"DT\": \"saddlebrown\",\"GNB\":\"dodgerblue\"})\n",
    "plt.title(\"Class 1\")"
   ]
  },
  {
   "cell_type": "code",
   "execution_count": 47,
   "id": "tested-distributor",
   "metadata": {},
   "outputs": [
    {
     "data": {
      "text/plain": [
       "Text(0.5, 1.0, 'Class 2')"
      ]
     },
     "execution_count": 47,
     "metadata": {},
     "output_type": "execute_result"
    },
    {
     "data": {
      "image/png": "[encoded data removed]",
      "text/plain": [
       "<Figure size 432x288 with 1 Axes>"
      ]
     },
     "metadata": {
      "needs_background": "light"
     },
     "output_type": "display_data"
    }
   ],
   "source": [
    "class2_df.plot.barh(color={\"RF\": \"forestgreen\", \"DT\": \"saddlebrown\",\"GNB\":\"dodgerblue\"})\n",
    "plt.title(\"Class 2\")"
   ]
  },
  {
   "cell_type": "code",
   "execution_count": 48,
   "id": "conditional-filing",
   "metadata": {},
   "outputs": [
    {
     "data": {
      "text/plain": [
       "Text(0.5, 1.0, 'Class 3')"
      ]
     },
     "execution_count": 48,
     "metadata": {},
     "output_type": "execute_result"
    },
    {
     "data": {
      "image/png": "[encoded data removed]",
      "text/plain": [
       "<Figure size 432x288 with 1 Axes>"
      ]
     },
     "metadata": {
      "needs_background": "light"
     },
     "output_type": "display_data"
    }
   ],
   "source": [
    "class3_df.plot.barh(color={\"RF\": \"forestgreen\", \"DT\": \"saddlebrown\",\"GNB\":\"dodgerblue\"})\n",
    "plt.title(\"Class 3\")"
   ]
  },
  {
   "cell_type": "code",
   "execution_count": 49,
   "id": "referenced-desperate",
   "metadata": {},
   "outputs": [
    {
     "data": {
      "text/plain": [
       "Text(0.5, 1.0, 'Class 4')"
      ]
     },
     "execution_count": 49,
     "metadata": {},
     "output_type": "execute_result"
    },
    {
     "data": {
      "image/png": "[encoded data removed]",
      "text/plain": [
       "<Figure size 432x288 with 1 Axes>"
      ]
     },
     "metadata": {
      "needs_background": "light"
     },
     "output_type": "display_data"
    }
   ],
   "source": [
    "class4_df.plot.barh(color={\"RF\": \"forestgreen\", \"DT\": \"saddlebrown\",\"GNB\":\"dodgerblue\"})\n",
    "plt.title(\"Class 4\")"
   ]
  },
  {
   "cell_type": "code",
   "execution_count": 50,
   "id": "lined-dance",
   "metadata": {},
   "outputs": [
    {
     "data": {
      "text/plain": [
       "Text(0.5, 1.0, 'Class 5')"
      ]
     },
     "execution_count": 50,
     "metadata": {},
     "output_type": "execute_result"
    },
    {
     "data": {
      "image/png": "[encoded data removed]",
      "text/plain": [
       "<Figure size 432x288 with 1 Axes>"
      ]
     },
     "metadata": {
      "needs_background": "light"
     },
     "output_type": "display_data"
    }
   ],
   "source": [
    "class5_df.plot.barh(color={\"RF\": \"forestgreen\", \"DT\": \"saddlebrown\",\"GNB\":\"dodgerblue\"})\n",
    "plt.title(\"Class 5\")"
   ]
  },
  {
   "cell_type": "markdown",
   "id": "armed-flood",
   "metadata": {},
   "source": [
    "## Conclusion"
   ]
  },
  {
   "cell_type": "markdown",
   "id": "perceived-truck",
   "metadata": {},
   "source": [
    "In this assignment, the aim was focus on classification methods. There are many classification methods. For this assignment, my first choice became Random Forest and Decision Tree because I worked with them mostly. After that I decided to implement Gaussian Naive Bayes to see it's performance. I started the work with general data preprocessing operations. After this operations data became ready to fit in classification models. I splitted data into %80 train and %20 test parts, because it's a classification problem. I had to find success of models so I run all models with same data. I had predictions and compared with actual values which is y_test.\n",
    "\n",
    "When we talk about accuracies, Decision Tree is exactly best model for our data. It gives %94 accuracy and it means nearly perfect predictions. Gaussian Naive Bayes predicts a little better than Random Forest. <br> <br>\n",
    "While looking at classes one by one, we can see that recall is always very close for each model.\n",
    "Decision Tree dominates all classes but not Class 4. In some classes we can see Random Forest or Gaussian Naive Bayes may have good precision values.\n",
    "\n",
    "Gaussian Naive Bayes in some classes have better F1-score than others.\n",
    "\n",
    "Also Confusion Matrix of models shows that in which class, how many values predicted true."
   ]
  },
  {
   "cell_type": "markdown",
   "id": "orange-ceramic",
   "metadata": {},
   "source": [
    "## References"
   ]
  },
  {
   "cell_type": "markdown",
   "id": "casual-season",
   "metadata": {},
   "source": [
    "1) https://www.datacamp.com/blog/classification-machine-learning <br>\n",
    "2) https://www.edureka.co/blog/classification-in-machine-learning/ <br>\n",
    "3) https://www.simplilearn.com/tutorials/machine-learning-tutorial/classification-in-machine-learning <br>\n",
    "4) https://www.analyticsvidhya.com/blog/2021/09/a-complete-guide-to-understand-classification-in-machine-learning <br>\n",
    "5) https://towardsdatascience.com/solving-a-simple-classification-problem-with-python-fruits-lovers-edition-d20ab6b071d2 <br>\n",
    "6) https://medium.com/analytics-vidhya/building-classification-model-with-pyth <br>"
   ]
  }
 ],
 "metadata": {
  "kernelspec": {
   "display_name": "Python 3",
   "language": "python",
   "name": "python3"
  },
  "language_info": {
   "codemirror_mode": {
    "name": "ipython",
    "version": 3
   },
   "file_extension": ".py",
   "mimetype": "text/x-python",
   "name": "python",
   "nbconvert_exporter": "python",
   "pygments_lexer": "ipython3",
   "version": "3.8.8"
  }
 },
 "nbformat": 4,
 "nbformat_minor": 5
}
